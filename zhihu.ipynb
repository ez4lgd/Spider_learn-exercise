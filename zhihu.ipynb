{
 "cells": [
  {
   "cell_type": "markdown",
   "id": "2f0d2ec3-d87e-4886-8ef8-a84f8b716009",
   "metadata": {},
   "source": [
    "#爬虫知乎"
   ]
  },
  {
   "cell_type": "code",
   "execution_count": 1,
   "id": "92265fea-e8a6-4f65-8d24-d51021800689",
   "metadata": {},
   "outputs": [],
   "source": [
    "import requests"
   ]
  },
  {
   "cell_type": "code",
   "execution_count": 27,
   "id": "b3a484c8-4860-4d53-88c1-6bf5ae6ec973",
   "metadata": {},
   "outputs": [],
   "source": [
    "url =\" https://www.zhihu.com/api/v4/members/ling-yin-ayane/answers?include=data%5B*%5D.is_normal%2Cadmin_closed_comment%2Creward_info%2Cis_collapsed%2Cannotation_action%2Cannotation_detail%2Ccollapse_reason%2Ccollapsed_by%2Csuggest_edit%2Ccomment_count%2Ccan_comment%2Ccontent%2Ceditable_content%2Cattachment%2Cvoteup_count%2Creshipment_settings%2Ccomment_permission%2Cmark_infos%2Ccreated_time%2Cupdated_time%2Creview_info%2Cexcerpt%2Cis_labeled%2Clabel_info%2Crelationship.is_authorized%2Cvoting%2Cis_author%2Cis_thanked%2Cis_nothelp%2Cis_recognized%3Bdata%5B*%5D.vessay_info%3Bdata%5B*%5D.author.badge%5B%3F%28type%3Dbest_answerer%29%5D.topics%3Bdata%5B*%5D.author.vip_info%3Bdata%5B*%5D.question.has_publishing_draft%2Crelationship&offset=0&limit=20&sort_by=created\"\n",
    "header = {\n",
    "    \"cookie\": \"_zap=e4e0c667-bb56-4030-b4da-437e83e28b8d; _xsrf=f2f3ae78-e0b6-48c0-be00-7b73e9ef8a69; d_c0='AKDRAbU-EhWPTuf9bNF4o-3MG9LCt3bDc9A=|1654781650'; Hm_lvt_98beee57fd2ef70ccdd5ca52b9740c49=1654781651; gdxidpyhxdE=5ghEqqVOm3BSTDuin%2BC9%2F7PBmQC%2BgEh%2FOHaSKSMKC4eYB9GEpacx4scrAAS7POyLnthxLr6C6x76Tlrg54AiZTaGZk2hvXPfe1HDY%2FYL9zWq5NSchuHvDYmgVOINh1EfwQ0Z8IYzeuAMdiEmUOjPS9z26hMelqoYY9mIBRuuRDgfhv9n%3A1654782553025; _9755xjdesxxd_=32; YD00517437729195%3AWM_NI=RAlKoHFgEaiCZR%2FNd1VLphbK1OtjRhvq%2FkCI2i%2Bhk%2BA%2F%2F%2BFVLUEuqu3O4Pm0M0IhJBFHxh%2FXrZ2MZaYe5gS1SqZ6oN3zNIG08mhj%2FaZ0EgTVT0PhQ8bK0yd3yPBLm9VZUjg%3D; YD00517437729195%3AWM_NIKE=9ca17ae2e6ffcda170e2e6eed3d67caba6b9d3d661afe78ea2d54a868f8eb1c54eab988b8fe45fa2908c83e92af0fea7c3b92a929fa4acee4486b98b82ec499a8ee1afe73b9694c089e141f391bc8bd164b6afe18cc243f2b7e589ea2183f1e1ccc55e908b8b96f47ff191fcb1f03c8ff08789c94a8698b889ae54b286feaed96b9bbbfb88d23b91af96d7ee46f1a682aac63cfcb3a88bae6b9af08b88d75e98f0a089d434a295009ae739bb908eadf03396869b8be637e2a3; YD00517437729195%3AWM_TID=scFeiHwbNxtFAAAFAReBVnDEzeUbOSKi; Hm_lpvt_98beee57fd2ef70ccdd5ca52b9740c49=1654781675; captcha_session_v2=2|1:0|10:1654781674|18:captcha_session_v2|88:S3JIWis3dytUNGNlc0x4Yi8wVmpxTk1HSm9VOE9MMEhNak5Lb21qMlh5ZDFnYyt1ZjNzU2VKR3h4REdzdC92VA==|8e4183b71bc376b30048233900540ad6c69ba57194eec051617c16a079f65495; KLBRSID=d1f07ca9b929274b65d830a00cbd719a|1654781692|1654781650\"\n",
    "    ,\"referer\": \"https://www.zhihu.com/people/ling-yin-ayane/answers\"\n",
    "    ,\"user-agent\":\"Mozilla/5.0 (Windows NT 10.0; Win64; x64) AppleWebKit/537.36 (KHTML, like Gecko) Chrome/102.0.5005.63 Safari/537.36\"\n",
    "    # ,\"x-zse-96\":\"2.0_aXtqHg9B6XOfUUYBMHF8nrUBoLtpoTO0mTOqr6e8b0Of\"\n",
    "    # ,\"accept\":\"*/*\"\n",
    "    # ,\"x-zst-81\":\"3_2.0ae3TnRUTEvOOUCNMTQnTSHUZo02p-HNMZBO8YDQ0S6kpQRYqXRFZki90-LS9-hp1DufI-we8gGHPgJO1xuPZ0GxCTJHR7820XM20cLRGDJXfgGCBxupMuD_Ie8FL7AtqM6O1VDQyQ6nxrRPCHukMoCXBEgOsiRP0XL2ZUBXmDDV9qhnyTXFMnXcTF_ntRueThi3_tbc0ZqFxkgY01TgGSqcY-vLB8qCOFgS1OJofUuo1w9o1KX21quCOjuCPvHXBpMOMfhU_i9x93bSqmUHBYqwKtBgMkexfvGV9jvc0cwNxPBF1AGwqQwHMnBeso9XKAhO81c9LxBcXDwe_qqemtwS1P9pB24NMBbH88gLCkCc1YG394qfzhbCZScNL6TXGKJN1Sc9MwDS_bDo_xUCqr9eCogHmeuYmZu2_pb39C9tMWJxOxCcG_US9BqwMo_Cqxg2BuqcByJS_ZJNYyvX03UcMzbx9FGgMuwXB68HC\"\n",
    "    # ,\"x-requested-with\":\"fetch\"\n",
    "    # ,\"x-zse-93\":\"101_3_2.0\"\n",
    "    # ,\"x-ab-param\":\"qap_question_author=0;top_test_4_liguangyi=1;tp_topic_style=0;tp_dingyue_video=0;se_ffzx_jushen1=0;pf_noti_entry_num=2;tp_contents=2;tp_zrec=1;qap_question_visitor= 0;pf_adjust=0\"\n",
    "    # ,\"x-ab-pb\":\"Cq4CtQsyA/MDVwR2COUJaQGmBOEJZQpUCfIKKQsWBo0J/QpOC2oBUgU/AKAD9AkxBuAL9AONBEEGbAjJCbQKzAIbANwHmAg3DHoIVQk7AngHdAgTCzsL1wKeBZsHxQg/CdcLUAPLCcoJhgqUBt0HRgvxCe0K4wWiBvYJ2AdSC8UJUQUwBoQCYAk0DLQAKQWpCmcIawpJCeQKkQnMCWALownUClcHqwmLBREFMgXOCioDwwnICVYMgwq+CjMEJwh1CTULxAn2AjMF3Av+CqYGdAGhA+UIpQrECowFxwlDC30CuQKiA9YEQgkBC0MAtwN3BxYJBgrPC90KhAnGCZsLDwtAAXkIAQnWCNEJmArpBOsGfgZJCowEEgnsCk8KRwAEClYFJweqCtoIOgv0C9gCTwMSlwEDAAAAAAAAAAAAAAAAAAAAAAAAAAAAAAAAAAAAAAAAAAAAAQAAAAAAAAAAAAAAAAAAAAABAAAAAAAAAAAAAQAAAAAAAAAAAAQAAQAAAAAAAAAAAAAAAAIAAAEAAAAAAAAAAAAAAAAAAAAAAAAAAAALAAAAABgAAAAACwAAAAIBAAAAAAAAAAAAAAAAAQAAAAAAAAAAAAAA\"\n",
    "}\n",
    "\n",
    "payload = {\n",
    "    \"include\":\"data[*].is_normal,admin_closed_comment,reward_info,is_collapsed,annotation_action,annotation_detail,collapse_reason,collapsed_by,suggest_edit,comment_count,can_comment,content,editable_content,attachment,voteup_count,reshipment_settings,comment_permission,mark_infos,created_time,updated_time,review_info,excerpt,is_labeled,label_info,relationship.is_authorized,voting,is_author,is_thanked,is_nothelp,is_recognized;data[*].vessay_info;data[*].author.badge[?(type=best_answerer)].topics;data[*].author.vip_info;data[*].question.has_publishing_draft,relationshipxoffset: 0\"\n",
    "    ,\"limit\":\"20\"\n",
    "    ,\"sort_by\": \"created\"\n",
    "}"
   ]
  },
  {
   "cell_type": "code",
   "execution_count": 28,
   "id": "ec0d6b2e-4618-4af3-8a79-0d9c87421af3",
   "metadata": {},
   "outputs": [
    {
     "name": "stdout",
     "output_type": "stream",
     "text": [
      "<Response [403]>\n"
     ]
    }
   ],
   "source": [
    "r = requests.get(url = url,params = payload ,headers = header)\n",
    "print(r)"
   ]
  },
  {
   "cell_type": "code",
   "execution_count": 31,
   "id": "a0bb7f2e-858c-4e1c-bb97-1f991144e8aa",
   "metadata": {},
   "outputs": [
    {
     "ename": "HTTPError",
     "evalue": "403 Client Error: Forbidden for url: https://www.zhihu.com/api/v4/questions/536809241/answers?include=data%5B%2A%5D.is_normal%2Cadmin_closed_comment%2Creward_info%2Cis_collapsed%2Cannotation_action%2Cannotation_detail%2Ccollapse_reason%2Cis_sticky%2Ccollapsed_by%2Csuggest_edit%2Ccomment_count%2Ccan_comment%2Ccontent%2Ceditable_content%2Cattachment%2Cvoteup_count%2Creshipment_settings%2Ccomment_permission%2Ccreated_time%2Cupdated_time%2Creview_info%2Crelevant_info%2Cquestion%2Cexcerpt%2Cis_labeled%2Cpaid_info%2Cpaid_info_content%2Creaction_instruction%2Crelationship.is_authorized%2Cis_author%2Cvoting%2Cis_thanked%2Cis_nothelp%2Cis_recognized%3Bdata%5B%2A%5D.mark_infos%5B%2A%5D.url%3Bdata%5B%2A%5D.author.follower_count%2Cvip_info%2Cbadge%5B%2A%5D.topics%3Bdata%5B%2A%5D.settings.table_of_content.enabled&limit=5&offset=5&platform=desktop&sort_by=default",
     "output_type": "error",
     "traceback": [
      "\u001b[1;31m---------------------------------------------------------------------------\u001b[0m",
      "\u001b[1;31mHTTPError\u001b[0m                                 Traceback (most recent call last)",
      "Input \u001b[1;32mIn [31]\u001b[0m, in \u001b[0;36m<cell line: 11>\u001b[1;34m()\u001b[0m\n\u001b[0;32m      9\u001b[0m \u001b[38;5;66;03m#用request库进行请求并获取返回文本\u001b[39;00m\n\u001b[0;32m     10\u001b[0m response \u001b[38;5;241m=\u001b[39m requests\u001b[38;5;241m.\u001b[39mget(start_url , headers\u001b[38;5;241m=\u001b[39mself_header, timeout\u001b[38;5;241m=\u001b[39m\u001b[38;5;241m30\u001b[39m)\n\u001b[1;32m---> 11\u001b[0m \u001b[43mresponse\u001b[49m\u001b[38;5;241;43m.\u001b[39;49m\u001b[43mraise_for_status\u001b[49m\u001b[43m(\u001b[49m\u001b[43m)\u001b[49m\n\u001b[0;32m     12\u001b[0m response\u001b[38;5;241m.\u001b[39mencoding \u001b[38;5;241m=\u001b[39m response\u001b[38;5;241m.\u001b[39mapparent_encoding\n\u001b[0;32m     13\u001b[0m con\u001b[38;5;241m=\u001b[39mresponse\u001b[38;5;241m.\u001b[39mtext\n",
      "File \u001b[1;32m~\\AppData\\Local\\Programs\\Python\\Python310\\lib\\site-packages\\requests\\models.py:960\u001b[0m, in \u001b[0;36mResponse.raise_for_status\u001b[1;34m(self)\u001b[0m\n\u001b[0;32m    957\u001b[0m     http_error_msg \u001b[38;5;241m=\u001b[39m \u001b[38;5;124mu\u001b[39m\u001b[38;5;124m'\u001b[39m\u001b[38;5;132;01m%s\u001b[39;00m\u001b[38;5;124m Server Error: \u001b[39m\u001b[38;5;132;01m%s\u001b[39;00m\u001b[38;5;124m for url: \u001b[39m\u001b[38;5;132;01m%s\u001b[39;00m\u001b[38;5;124m'\u001b[39m \u001b[38;5;241m%\u001b[39m (\u001b[38;5;28mself\u001b[39m\u001b[38;5;241m.\u001b[39mstatus_code, reason, \u001b[38;5;28mself\u001b[39m\u001b[38;5;241m.\u001b[39murl)\n\u001b[0;32m    959\u001b[0m \u001b[38;5;28;01mif\u001b[39;00m http_error_msg:\n\u001b[1;32m--> 960\u001b[0m     \u001b[38;5;28;01mraise\u001b[39;00m HTTPError(http_error_msg, response\u001b[38;5;241m=\u001b[39m\u001b[38;5;28mself\u001b[39m)\n",
      "\u001b[1;31mHTTPError\u001b[0m: 403 Client Error: Forbidden for url: https://www.zhihu.com/api/v4/questions/536809241/answers?include=data%5B%2A%5D.is_normal%2Cadmin_closed_comment%2Creward_info%2Cis_collapsed%2Cannotation_action%2Cannotation_detail%2Ccollapse_reason%2Cis_sticky%2Ccollapsed_by%2Csuggest_edit%2Ccomment_count%2Ccan_comment%2Ccontent%2Ceditable_content%2Cattachment%2Cvoteup_count%2Creshipment_settings%2Ccomment_permission%2Ccreated_time%2Cupdated_time%2Creview_info%2Crelevant_info%2Cquestion%2Cexcerpt%2Cis_labeled%2Cpaid_info%2Cpaid_info_content%2Creaction_instruction%2Crelationship.is_authorized%2Cis_author%2Cvoting%2Cis_thanked%2Cis_nothelp%2Cis_recognized%3Bdata%5B%2A%5D.mark_infos%5B%2A%5D.url%3Bdata%5B%2A%5D.author.follower_count%2Cvip_info%2Cbadge%5B%2A%5D.topics%3Bdata%5B%2A%5D.settings.table_of_content.enabled&limit=5&offset=5&platform=desktop&sort_by=default"
     ]
    }
   ],
   "source": [
    "import requests\n",
    "\n",
    "start_url = \"https://www.zhihu.com/api/v4/questions/536809241/answers?include=data%5B%2A%5D.is_normal%2Cadmin_closed_comment%2Creward_info%2Cis_collapsed%2Cannotation_action%2Cannotation_detail%2Ccollapse_reason%2Cis_sticky%2Ccollapsed_by%2Csuggest_edit%2Ccomment_count%2Ccan_comment%2Ccontent%2Ceditable_content%2Cattachment%2Cvoteup_count%2Creshipment_settings%2Ccomment_permission%2Ccreated_time%2Cupdated_time%2Creview_info%2Crelevant_info%2Cquestion%2Cexcerpt%2Cis_labeled%2Cpaid_info%2Cpaid_info_content%2Creaction_instruction%2Crelationship.is_authorized%2Cis_author%2Cvoting%2Cis_thanked%2Cis_nothelp%2Cis_recognized%3Bdata%5B%2A%5D.mark_infos%5B%2A%5D.url%3Bdata%5B%2A%5D.author.follower_count%2Cvip_info%2Cbadge%5B%2A%5D.topics%3Bdata%5B%2A%5D.settings.table_of_content.enabled&limit=5&offset=5&platform=desktop&sort_by=default\"\n",
    "#请求头\n",
    "self_header={'user-agent': 'Mozilla/5.0 (Windows NT 10.0; Win64; x64) AppleWebKit/537.36 (KHTML, like Gecko) Chrome/102.0.5005.63 Safari/537.36'\n",
    "             ,'cookie' :\"_zap=db6a1c7e-f3d4-4d77-966a-24d674e1511d; d_c0='AMDcGsuA0BSPTgyp4_hYl5lWS5IgrZ1a_Ms=|1650369789'; _9755xjdesxxd_=32; YD00517437729195%3AWM_TID=JQfwjUlNWkdBBRAERVOVQTUS3iScNd3M; __snaker__id=cp7t3ZB41Wnz8UjK; _xsrf=qIFv9c7Dx5BYn9ljK7bKmMnZu9jtUAW3; gdxidpyhxdE=a0k43aNNzugnY8dYDyqZVwPkieegENAHYWIliNjSKJYcSla5gJ4v3VoNHuxpNhM%2BSPpPnkzDuGzyAE%2BtIiM3OErQ0qWo4yrC5GLxejO%2Fg2hTLX8L1H0ze32szkRq%5CgjdKVMG3NDMcO5v%5C5JMNmc1%2BGgYfB0aQ1Yj%2BiztQ4rm4gGg5KmM%3A1650706287661; YD00517437729195%3AWM_NI=guKDf9zhpMq4zMxagO5F32VjeObWRVENLegwN0IkzO%2FOEFTpSTIJDuURbCOM2MhV351QSoGWTFnNDjok7Zm02hCs0JEkfbvJo1d9l59g8dv15O2rfMBz%2BfpDnWxP1bweS2E%3D; YD00517437729195%3AWM_NIKE=9ca17ae2e6ffcda170e2e6eeb4dc3fb289af90d24e91868ba6d44b838f8eadd45b8196a78ffc53f297fab1b72af0fea7c3b92aa5ab85a5e533bab8c0aef440ba93b882e645f79afdd3d562a791aeb8d15e87928486e67d8ef0878cf945ed918ba7d77c918c87abc77f978eaea4ce47f293a8b7b23ff38f9d90c65d989aa2afc762adb5f9bbf03cf2b88d94b34287b5aa83f542adefacdaef3ffbb9f885f53bf791fe93e54782a6e587f350ae89b8b1b46ab5bb9dd3c837e2a3; z_c0=2|1:0|10:1650705403|4:z_c0|92:Mi4xY0Q0QkF3QUFBQUFBd053YXk0RFFGQ1lBQUFCZ0FsVk4teEZSWXdEeDgwNWhqYk9rU3hLSHQ4SXI5XzhFcFlaNE9R|aa6f495ed694071dc734ae6e664c53d3af4b4de34d9892baa984d6e8d83cdcc6; q_c1=d7f30cd457004f9c9f4ca31b2a67bdd0|1650705403000|1650705403000; q_c1=d7f30cd457004f9c9f4ca31b2a67bdd0|1653410337000|1650705403000; Hm_lvt_98beee57fd2ef70ccdd5ca52b9740c49=1654266538,1654307915,1654395578,1654781346; NOT_UNREGISTER_WAITING=1; tst=h; Hm_lpvt_98beee57fd2ef70ccdd5ca52b9740c49=1654784013; KLBRSID=e42bab774ac0012482937540873c03cf|1654784022|1654781345\"\n",
    "             ,\"referer\":\"https://www.zhihu.com/question/536809241\"\n",
    "            }\n",
    "#用request库进行请求并获取返回文本\n",
    "response = requests.get(start_url , headers=self_header, timeout=30)\n",
    "response.raise_for_status()\n",
    "response.encoding = response.apparent_encoding\n",
    "con=response.text\n",
    "print(con)\n"
   ]
  },
  {
   "cell_type": "code",
   "execution_count": null,
   "id": "610b5eb3-63e8-423d-bda1-6ae726d635d8",
   "metadata": {},
   "outputs": [],
   "source": []
  }
 ],
 "metadata": {
  "kernelspec": {
   "display_name": "Python 3 (ipykernel)",
   "language": "python",
   "name": "python3"
  },
  "language_info": {
   "codemirror_mode": {
    "name": "ipython",
    "version": 3
   },
   "file_extension": ".py",
   "mimetype": "text/x-python",
   "name": "python",
   "nbconvert_exporter": "python",
   "pygments_lexer": "ipython3",
   "version": "3.10.4"
  }
 },
 "nbformat": 4,
 "nbformat_minor": 5
}
