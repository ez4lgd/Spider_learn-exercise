{
 "cells": [
  {
   "cell_type": "markdown",
   "id": "2f0d2ec3-d87e-4886-8ef8-a84f8b716009",
   "metadata": {},
   "source": [
    "#爬虫知乎"
   ]
  },
  {
   "cell_type": "code",
   "execution_count": 1,
   "id": "92265fea-e8a6-4f65-8d24-d51021800689",
   "metadata": {},
   "outputs": [],
   "source": [
    "import requests"
   ]
  },
  {
   "cell_type": "code",
   "execution_count": 27,
   "id": "b3a484c8-4860-4d53-88c1-6bf5ae6ec973",
   "metadata": {},
   "outputs": [],
   "source": [
    "url =\" https://www.zhihu.com/api/v4/members/ling-yin-ayane/answers?include=data%5B*%5D.is_normal%2Cadmin_closed_comment%2Creward_info%2Cis_collapsed%2Cannotation_action%2Cannotation_detail%2Ccollapse_reason%2Ccollapsed_by%2Csuggest_edit%2Ccomment_count%2Ccan_comment%2Ccontent%2Ceditable_content%2Cattachment%2Cvoteup_count%2Creshipment_settings%2Ccomment_permission%2Cmark_infos%2Ccreated_time%2Cupdated_time%2Creview_info%2Cexcerpt%2Cis_labeled%2Clabel_info%2Crelationship.is_authorized%2Cvoting%2Cis_author%2Cis_thanked%2Cis_nothelp%2Cis_recognized%3Bdata%5B*%5D.vessay_info%3Bdata%5B*%5D.author.badge%5B%3F%28type%3Dbest_answerer%29%5D.topics%3Bdata%5B*%5D.author.vip_info%3Bdata%5B*%5D.question.has_publishing_draft%2Crelationship&offset=0&limit=20&sort_by=created\"\n",
    "header = {\n",
    "    \"cookie\": \"_zap=e4e0c667-bb56-4030-b4da-437e83e28b8d; _xsrf=f2f3ae78-e0b6-48c0-be00-7b73e9ef8a69; d_c0='AKDRAbU-EhWPTuf9bNF4o-3MG9LCt3bDc9A=|1654781650'; Hm_lvt_98beee57fd2ef70ccdd5ca52b9740c49=1654781651; gdxidpyhxdE=5ghEqqVOm3BSTDuin%2BC9%2F7PBmQC%2BgEh%2FOHaSKSMKC4eYB9GEpacx4scrAAS7POyLnthxLr6C6x76Tlrg54AiZTaGZk2hvXPfe1HDY%2FYL9zWq5NSchuHvDYmgVOINh1EfwQ0Z8IYzeuAMdiEmUOjPS9z26hMelqoYY9mIBRuuRDgfhv9n%3A1654782553025; _9755xjdesxxd_=32; YD00517437729195%3AWM_NI=RAlKoHFgEaiCZR%2FNd1VLphbK1OtjRhvq%2FkCI2i%2Bhk%2BA%2F%2F%2BFVLUEuqu3O4Pm0M0IhJBFHxh%2FXrZ2MZaYe5gS1SqZ6oN3zNIG08mhj%2FaZ0EgTVT0PhQ8bK0yd3yPBLm9VZUjg%3D; YD00517437729195%3AWM_NIKE=9ca17ae2e6ffcda170e2e6eed3d67caba6b9d3d661afe78ea2d54a868f8eb1c54eab988b8fe45fa2908c83e92af0fea7c3b92a929fa4acee4486b98b82ec499a8ee1afe73b9694c089e141f391bc8bd164b6afe18cc243f2b7e589ea2183f1e1ccc55e908b8b96f47ff191fcb1f03c8ff08789c94a8698b889ae54b286feaed96b9bbbfb88d23b91af96d7ee46f1a682aac63cfcb3a88bae6b9af08b88d75e98f0a089d434a295009ae739bb908eadf03396869b8be637e2a3; YD00517437729195%3AWM_TID=scFeiHwbNxtFAAAFAReBVnDEzeUbOSKi; Hm_lpvt_98beee57fd2ef70ccdd5ca52b9740c49=1654781675; captcha_session_v2=2|1:0|10:1654781674|18:captcha_session_v2|88:S3JIWis3dytUNGNlc0x4Yi8wVmpxTk1HSm9VOE9MMEhNak5Lb21qMlh5ZDFnYyt1ZjNzU2VKR3h4REdzdC92VA==|8e4183b71bc376b30048233900540ad6c69ba57194eec051617c16a079f65495; KLBRSID=d1f07ca9b929274b65d830a00cbd719a|1654781692|1654781650\"\n",
    "    ,\"referer\": \"https://www.zhihu.com/people/ling-yin-ayane/answers\"\n",
    "    ,\"user-agent\":\"Mozilla/5.0 (Windows NT 10.0; Win64; x64) AppleWebKit/537.36 (KHTML, like Gecko) Chrome/102.0.5005.63 Safari/537.36\"\n",
    "    # ,\"x-zse-96\":\"2.0_aXtqHg9B6XOfUUYBMHF8nrUBoLtpoTO0mTOqr6e8b0Of\"\n",
    "    # ,\"accept\":\"*/*\"\n",
    "    # ,\"x-zst-81\":\"3_2.0ae3TnRUTEvOOUCNMTQnTSHUZo02p-HNMZBO8YDQ0S6kpQRYqXRFZki90-LS9-hp1DufI-we8gGHPgJO1xuPZ0GxCTJHR7820XM20cLRGDJXfgGCBxupMuD_Ie8FL7AtqM6O1VDQyQ6nxrRPCHukMoCXBEgOsiRP0XL2ZUBXmDDV9qhnyTXFMnXcTF_ntRueThi3_tbc0ZqFxkgY01TgGSqcY-vLB8qCOFgS1OJofUuo1w9o1KX21quCOjuCPvHXBpMOMfhU_i9x93bSqmUHBYqwKtBgMkexfvGV9jvc0cwNxPBF1AGwqQwHMnBeso9XKAhO81c9LxBcXDwe_qqemtwS1P9pB24NMBbH88gLCkCc1YG394qfzhbCZScNL6TXGKJN1Sc9MwDS_bDo_xUCqr9eCogHmeuYmZu2_pb39C9tMWJxOxCcG_US9BqwMo_Cqxg2BuqcByJS_ZJNYyvX03UcMzbx9FGgMuwXB68HC\"\n",
    "    # ,\"x-requested-with\":\"fetch\"\n",
    "    # ,\"x-zse-93\":\"101_3_2.0\"\n",
    "    # ,\"x-ab-param\":\"qap_question_author=0;top_test_4_liguangyi=1;tp_topic_style=0;tp_dingyue_video=0;se_ffzx_jushen1=0;pf_noti_entry_num=2;tp_contents=2;tp_zrec=1;qap_question_visitor= 0;pf_adjust=0\"\n",
    "    # ,\"x-ab-pb\":\"Cq4CtQsyA/MDVwR2COUJaQGmBOEJZQpUCfIKKQsWBo0J/QpOC2oBUgU/AKAD9AkxBuAL9AONBEEGbAjJCbQKzAIbANwHmAg3DHoIVQk7AngHdAgTCzsL1wKeBZsHxQg/CdcLUAPLCcoJhgqUBt0HRgvxCe0K4wWiBvYJ2AdSC8UJUQUwBoQCYAk0DLQAKQWpCmcIawpJCeQKkQnMCWALownUClcHqwmLBREFMgXOCioDwwnICVYMgwq+CjMEJwh1CTULxAn2AjMF3Av+CqYGdAGhA+UIpQrECowFxwlDC30CuQKiA9YEQgkBC0MAtwN3BxYJBgrPC90KhAnGCZsLDwtAAXkIAQnWCNEJmArpBOsGfgZJCowEEgnsCk8KRwAEClYFJweqCtoIOgv0C9gCTwMSlwEDAAAAAAAAAAAAAAAAAAAAAAAAAAAAAAAAAAAAAAAAAAAAAQAAAAAAAAAAAAAAAAAAAAABAAAAAAAAAAAAAQAAAAAAAAAAAAQAAQAAAAAAAAAAAAAAAAIAAAEAAAAAAAAAAAAAAAAAAAAAAAAAAAALAAAAABgAAAAACwAAAAIBAAAAAAAAAAAAAAAAAQAAAAAAAAAAAAAA\"\n",
    "}\n",
    "\n",
    "payload = {\n",
    "    \"include\":\"data[*].is_normal,admin_closed_comment,reward_info,is_collapsed,annotation_action,annotation_detail,collapse_reason,collapsed_by,suggest_edit,comment_count,can_comment,content,editable_content,attachment,voteup_count,reshipment_settings,comment_permission,mark_infos,created_time,updated_time,review_info,excerpt,is_labeled,label_info,relationship.is_authorized,voting,is_author,is_thanked,is_nothelp,is_recognized;data[*].vessay_info;data[*].author.badge[?(type=best_answerer)].topics;data[*].author.vip_info;data[*].question.has_publishing_draft,relationshipxoffset: 0\"\n",
    "    ,\"limit\":\"20\"\n",
    "    ,\"sort_by\": \"created\"\n",
    "}"
   ]
  },
  {
   "cell_type": "code",
   "execution_count": 28,
   "id": "ec0d6b2e-4618-4af3-8a79-0d9c87421af3",
   "metadata": {},
   "outputs": [
    {
     "name": "stdout",
     "output_type": "stream",
     "text": [
      "<Response [403]>\n"
     ]
    }
   ],
   "source": [
    "r = requests.get(url = url,params = payload ,headers = header)\n",
    "print(r)"
   ]
  },
  {
   "cell_type": "code",
   "execution_count": 31,
   "id": "a0bb7f2e-858c-4e1c-bb97-1f991144e8aa",
   "metadata": {},
   "outputs": [
    {
     "ename": "HTTPError",
     "evalue": "403 Client Error: Forbidden for url: https://www.zhihu.com/api/v4/questions/536809241/answers?include=data%5B%2A%5D.is_normal%2Cadmin_closed_comment%2Creward_info%2Cis_collapsed%2Cannotation_action%2Cannotation_detail%2Ccollapse_reason%2Cis_sticky%2Ccollapsed_by%2Csuggest_edit%2Ccomment_count%2Ccan_comment%2Ccontent%2Ceditable_content%2Cattachment%2Cvoteup_count%2Creshipment_settings%2Ccomment_permission%2Ccreated_time%2Cupdated_time%2Creview_info%2Crelevant_info%2Cquestion%2Cexcerpt%2Cis_labeled%2Cpaid_info%2Cpaid_info_content%2Creaction_instruction%2Crelationship.is_authorized%2Cis_author%2Cvoting%2Cis_thanked%2Cis_nothelp%2Cis_recognized%3Bdata%5B%2A%5D.mark_infos%5B%2A%5D.url%3Bdata%5B%2A%5D.author.follower_count%2Cvip_info%2Cbadge%5B%2A%5D.topics%3Bdata%5B%2A%5D.settings.table_of_content.enabled&limit=5&offset=5&platform=desktop&sort_by=default",
     "output_type": "error",
     "traceback": [
      "\u001b[1;31m---------------------------------------------------------------------------\u001b[0m",
      "\u001b[1;31mHTTPError\u001b[0m                                 Traceback (most recent call last)",
      "Input \u001b[1;32mIn [31]\u001b[0m, in \u001b[0;36m<cell line: 11>\u001b[1;34m()\u001b[0m\n\u001b[0;32m      9\u001b[0m \u001b[38;5;66;03m#用request库进行请求并获取返回文本\u001b[39;00m\n\u001b[0;32m     10\u001b[0m response \u001b[38;5;241m=\u001b[39m requests\u001b[38;5;241m.\u001b[39mget(start_url , headers\u001b[38;5;241m=\u001b[39mself_header, timeout\u001b[38;5;241m=\u001b[39m\u001b[38;5;241m30\u001b[39m)\n\u001b[1;32m---> 11\u001b[0m \u001b[43mresponse\u001b[49m\u001b[38;5;241;43m.\u001b[39;49m\u001b[43mraise_for_status\u001b[49m\u001b[43m(\u001b[49m\u001b[43m)\u001b[49m\n\u001b[0;32m     12\u001b[0m response\u001b[38;5;241m.\u001b[39mencoding \u001b[38;5;241m=\u001b[39m response\u001b[38;5;241m.\u001b[39mapparent_encoding\n\u001b[0;32m     13\u001b[0m con\u001b[38;5;241m=\u001b[39mresponse\u001b[38;5;241m.\u001b[39mtext\n",
      "File \u001b[1;32m~\\AppData\\Local\\Programs\\Python\\Python310\\lib\\site-packages\\requests\\models.py:960\u001b[0m, in \u001b[0;36mResponse.raise_for_status\u001b[1;34m(self)\u001b[0m\n\u001b[0;32m    957\u001b[0m     http_error_msg \u001b[38;5;241m=\u001b[39m \u001b[38;5;124mu\u001b[39m\u001b[38;5;124m'\u001b[39m\u001b[38;5;132;01m%s\u001b[39;00m\u001b[38;5;124m Server Error: \u001b[39m\u001b[38;5;132;01m%s\u001b[39;00m\u001b[38;5;124m for url: \u001b[39m\u001b[38;5;132;01m%s\u001b[39;00m\u001b[38;5;124m'\u001b[39m \u001b[38;5;241m%\u001b[39m (\u001b[38;5;28mself\u001b[39m\u001b[38;5;241m.\u001b[39mstatus_code, reason, \u001b[38;5;28mself\u001b[39m\u001b[38;5;241m.\u001b[39murl)\n\u001b[0;32m    959\u001b[0m \u001b[38;5;28;01mif\u001b[39;00m http_error_msg:\n\u001b[1;32m--> 960\u001b[0m     \u001b[38;5;28;01mraise\u001b[39;00m HTTPError(http_error_msg, response\u001b[38;5;241m=\u001b[39m\u001b[38;5;28mself\u001b[39m)\n",
      "\u001b[1;31mHTTPError\u001b[0m: 403 Client Error: Forbidden for url: https://www.zhihu.com/api/v4/questions/536809241/answers?include=data%5B%2A%5D.is_normal%2Cadmin_closed_comment%2Creward_info%2Cis_collapsed%2Cannotation_action%2Cannotation_detail%2Ccollapse_reason%2Cis_sticky%2Ccollapsed_by%2Csuggest_edit%2Ccomment_count%2Ccan_comment%2Ccontent%2Ceditable_content%2Cattachment%2Cvoteup_count%2Creshipment_settings%2Ccomment_permission%2Ccreated_time%2Cupdated_time%2Creview_info%2Crelevant_info%2Cquestion%2Cexcerpt%2Cis_labeled%2Cpaid_info%2Cpaid_info_content%2Creaction_instruction%2Crelationship.is_authorized%2Cis_author%2Cvoting%2Cis_thanked%2Cis_nothelp%2Cis_recognized%3Bdata%5B%2A%5D.mark_infos%5B%2A%5D.url%3Bdata%5B%2A%5D.author.follower_count%2Cvip_info%2Cbadge%5B%2A%5D.topics%3Bdata%5B%2A%5D.settings.table_of_content.enabled&limit=5&offset=5&platform=desktop&sort_by=default"
     ]
    }
   ],
   "source": [
    "import requests\n",
    "\n",
    "start_url = \"https://www.zhihu.com/api/v4/questions/536809241/answers?include=data%5B%2A%5D.is_normal%2Cadmin_closed_comment%2Creward_info%2Cis_collapsed%2Cannotation_action%2Cannotation_detail%2Ccollapse_reason%2Cis_sticky%2Ccollapsed_by%2Csuggest_edit%2Ccomment_count%2Ccan_comment%2Ccontent%2Ceditable_content%2Cattachment%2Cvoteup_count%2Creshipment_settings%2Ccomment_permission%2Ccreated_time%2Cupdated_time%2Creview_info%2Crelevant_info%2Cquestion%2Cexcerpt%2Cis_labeled%2Cpaid_info%2Cpaid_info_content%2Creaction_instruction%2Crelationship.is_authorized%2Cis_author%2Cvoting%2Cis_thanked%2Cis_nothelp%2Cis_recognized%3Bdata%5B%2A%5D.mark_infos%5B%2A%5D.url%3Bdata%5B%2A%5D.author.follower_count%2Cvip_info%2Cbadge%5B%2A%5D.topics%3Bdata%5B%2A%5D.settings.table_of_content.enabled&limit=5&offset=5&platform=desktop&sort_by=default\"\n",
    "#请求头\n",
    "self_header={'user-agent': 'Mozilla/5.0 (Windows NT 10.0; Win64; x64) AppleWebKit/537.36 (KHTML, like Gecko) Chrome/102.0.5005.63 Safari/537.36'\n",
    "             ,'cookie' :\"_zap=db6a1c7e-f3d4-4d77-966a-24d674e1511d; d_c0='AMDcGsuA0BSPTgyp4_hYl5lWS5IgrZ1a_Ms=|1650369789'; _9755xjdesxxd_=32; YD00517437729195%3AWM_TID=JQfwjUlNWkdBBRAERVOVQTUS3iScNd3M; __snaker__id=cp7t3ZB41Wnz8UjK; _xsrf=qIFv9c7Dx5BYn9ljK7bKmMnZu9jtUAW3; gdxidpyhxdE=a0k43aNNzugnY8dYDyqZVwPkieegENAHYWIliNjSKJYcSla5gJ4v3VoNHuxpNhM%2BSPpPnkzDuGzyAE%2BtIiM3OErQ0qWo4yrC5GLxejO%2Fg2hTLX8L1H0ze32szkRq%5CgjdKVMG3NDMcO5v%5C5JMNmc1%2BGgYfB0aQ1Yj%2BiztQ4rm4gGg5KmM%3A1650706287661; YD00517437729195%3AWM_NI=guKDf9zhpMq4zMxagO5F32VjeObWRVENLegwN0IkzO%2FOEFTpSTIJDuURbCOM2MhV351QSoGWTFnNDjok7Zm02hCs0JEkfbvJo1d9l59g8dv15O2rfMBz%2BfpDnWxP1bweS2E%3D; YD00517437729195%3AWM_NIKE=9ca17ae2e6ffcda170e2e6eeb4dc3fb289af90d24e91868ba6d44b838f8eadd45b8196a78ffc53f297fab1b72af0fea7c3b92aa5ab85a5e533bab8c0aef440ba93b882e645f79afdd3d562a791aeb8d15e87928486e67d8ef0878cf945ed918ba7d77c918c87abc77f978eaea4ce47f293a8b7b23ff38f9d90c65d989aa2afc762adb5f9bbf03cf2b88d94b34287b5aa83f542adefacdaef3ffbb9f885f53bf791fe93e54782a6e587f350ae89b8b1b46ab5bb9dd3c837e2a3; z_c0=2|1:0|10:1650705403|4:z_c0|92:Mi4xY0Q0QkF3QUFBQUFBd053YXk0RFFGQ1lBQUFCZ0FsVk4teEZSWXdEeDgwNWhqYk9rU3hLSHQ4SXI5XzhFcFlaNE9R|aa6f495ed694071dc734ae6e664c53d3af4b4de34d9892baa984d6e8d83cdcc6; q_c1=d7f30cd457004f9c9f4ca31b2a67bdd0|1650705403000|1650705403000; q_c1=d7f30cd457004f9c9f4ca31b2a67bdd0|1653410337000|1650705403000; Hm_lvt_98beee57fd2ef70ccdd5ca52b9740c49=1654266538,1654307915,1654395578,1654781346; NOT_UNREGISTER_WAITING=1; tst=h; Hm_lpvt_98beee57fd2ef70ccdd5ca52b9740c49=1654784013; KLBRSID=e42bab774ac0012482937540873c03cf|1654784022|1654781345\"\n",
    "             ,\"referer\":\"https://www.zhihu.com/question/536809241\"\n",
    "            }\n",
    "#用request库进行请求并获取返回文本\n",
    "response = requests.get(start_url , headers=self_header, timeout=30)\n",
    "response.raise_for_status()\n",
    "response.encoding = response.apparent_encoding\n",
    "con=response.text\n",
    "print(con)\n"
   ]
  },
  {
   "cell_type": "markdown",
   "id": "328420a5-6eef-4927-bab9-ddf6f129381c",
   "metadata": {},
   "source": [
    "#selenium爬取"
   ]
  },
  {
   "cell_type": "code",
   "execution_count": 1,
   "id": "cfe9f686-0869-431f-83af-07241647bbbd",
   "metadata": {},
   "outputs": [],
   "source": [
    "from selenium import webdriver\n",
    "from selenium.webdriver.common.by import By\n",
    "from selenium.webdriver.support import expected_conditions\n",
    "from selenium.webdriver.support.wait import WebDriverWait\n",
    "# 创建Edge参数对象\n"
   ]
  },
  {
   "cell_type": "code",
   "execution_count": 20,
   "id": "2dfedeb0-f1b0-4a47-8623-3680381ace64",
   "metadata": {},
   "outputs": [],
   "source": [
    "options = webdriver.EdgeOptions()\n",
    "# 添加试验性参数\n",
    "options.add_experimental_option('excludeSwitches', ['enable-automation'])\n",
    "options.add_experimental_option('useAutomationExtension', False)\n",
    "# 创建Chrome浏览器对象并传入参数\n",
    "browser = webdriver.Edge(options=options)\n",
    "# 执行Edge开发者协议命令（在加载页面时执行指定的JavaScript代码）\n",
    "browser.execute_cdp_cmd(\n",
    "    'Page.addScriptToEvaluateOnNewDocument',\n",
    "    {'source': 'Object.defineProperty(navigator, \"webdriver\", {get: () => undefined})'}\n",
    ")\n",
    "browser.set_window_size(1200, 800)\n",
    "\n",
    "browser.get('https://www.baidu.com/')\n",
    "# 设置隐式等待时间为10秒\n",
    "browser.implicitly_wait(10)\n",
    "kw_input = browser.find_element(By.ID, 'kw')\n",
    "kw_input.send_keys('盖因斯iFortune - 知乎')\n",
    "su_button = browser.find_element(By.CSS_SELECTOR, '#su')\n",
    "su_button.click()"
   ]
  },
  {
   "cell_type": "code",
   "execution_count": 21,
   "id": "30fb9b8a-6444-4a39-976f-8162a7aa3cf9",
   "metadata": {},
   "outputs": [],
   "source": [
    "search_result_button = browser.find_element(by=By.XPATH, value = '//*[@id=\"1\"]/div[1]/div[1]/h3/a')\n",
    "search_result_button.click()"
   ]
  },
  {
   "cell_type": "code",
   "execution_count": 14,
   "id": "b7c5310e-3362-4faf-9fa1-d83c2a76ee11",
   "metadata": {
    "collapsed": true,
    "jupyter": {
     "outputs_hidden": true
    },
    "tags": []
   },
   "outputs": [
    {
     "ename": "InvalidSelectorException",
     "evalue": "Message: invalid selector: An invalid or illegal selector was specified\n  (Session info: MicrosoftEdge=102.0.1245.44)\nStacktrace:\nBacktrace:\n\tMicrosoft::Applications::Events::EventProperties::unpack [0x00007FF640563A62+24578]\n\tMicrosoft::Applications::Events::time_ticks_t::time_ticks_t [0x00007FF64049E5D2+563682]\n\tOrdinal0 [0x00007FF63FFA0FB5+659381]\n\tOrdinal0 [0x00007FF63FFA454A+673098]\n\tOrdinal0 [0x00007FF63FFA42CB+672459]\n\tOrdinal0 [0x00007FF63FFA4680+673408]\n\tOrdinal0 [0x00007FF63FFDC005+901125]\n\tOrdinal0 [0x00007FF63FFDC513+902419]\n\tOrdinal0 [0x00007FF64000E467+1107047]\n\tOrdinal0 [0x00007FF63FFF77EF+1013743]\n\tOrdinal0 [0x00007FF64000BAD7+1096407]\n\tOrdinal0 [0x00007FF63FFF75C3+1013187]\n\tOrdinal0 [0x00007FF63FFCE4E0+845024]\n\tOrdinal0 [0x00007FF63FFCF8D8+850136]\n\tMicrosoft::Applications::Events::EventProperty::EventProperty [0x00007FF640255278+119992]\n\tMicrosoft::Applications::Events::EventProperty::EventProperty [0x00007FF640240D87+36807]\n\tMicrosoft::Applications::Events::EventProperty::EventProperty [0x00007FF640243F1C+49500]\n\tMicrosoft::Applications::Events::EventProperty::to_string [0x00007FF64009F606+20582]\n\tMicrosoft::Applications::Events::time_ticks_t::time_ticks_t [0x00007FF6404A5A3B+593483]\n\tMicrosoft::Applications::Events::time_ticks_t::time_ticks_t [0x00007FF6404AAF74+615300]\n\tMicrosoft::Applications::Events::time_ticks_t::time_ticks_t [0x00007FF6404AB0CD+615645]\n\tMicrosoft::Applications::Events::time_ticks_t::time_ticks_t [0x00007FF6404B5CDE+659694]\n\tBaseThreadInitThunk [0x00007FFB35A754E0+16]\n\tRtlUserThreadStart [0x00007FFB36BA485B+43]\n",
     "output_type": "error",
     "traceback": [
      "\u001b[1;31m---------------------------------------------------------------------------\u001b[0m",
      "\u001b[1;31mInvalidSelectorException\u001b[0m                  Traceback (most recent call last)",
      "Input \u001b[1;32mIn [14]\u001b[0m, in \u001b[0;36m<cell line: 2>\u001b[1;34m()\u001b[0m\n\u001b[0;32m      1\u001b[0m \u001b[38;5;66;03m#browser.find_element(by=By.XPATH,value = '//button[@class=\"Button Modal-closeButton Button--plain\"]').click()\u001b[39;00m\n\u001b[1;32m----> 2\u001b[0m \u001b[43mbrowser\u001b[49m\u001b[38;5;241;43m.\u001b[39;49m\u001b[43mfind_element\u001b[49m\u001b[43m(\u001b[49m\u001b[43mby\u001b[49m\u001b[38;5;241;43m=\u001b[39;49m\u001b[43mBy\u001b[49m\u001b[38;5;241;43m.\u001b[39;49m\u001b[43mCSS_SELECTOR\u001b[49m\u001b[43m,\u001b[49m\u001b[43mvalue\u001b[49m\u001b[43m \u001b[49m\u001b[38;5;241;43m=\u001b[39;49m\u001b[43m \u001b[49m\u001b[38;5;124;43m'\u001b[39;49m\u001b[38;5;124;43m/html/body/div[4]/div/div/div/div[2]/button\u001b[39;49m\u001b[38;5;124;43m'\u001b[39;49m\u001b[43m)\u001b[49m\u001b[38;5;241m.\u001b[39mclick()\n",
      "File \u001b[1;32m~\\AppData\\Local\\Programs\\Python\\Python310\\lib\\site-packages\\selenium\\webdriver\\remote\\webdriver.py:1251\u001b[0m, in \u001b[0;36mWebDriver.find_element\u001b[1;34m(self, by, value)\u001b[0m\n\u001b[0;32m   1248\u001b[0m     by \u001b[38;5;241m=\u001b[39m By\u001b[38;5;241m.\u001b[39mCSS_SELECTOR\n\u001b[0;32m   1249\u001b[0m     value \u001b[38;5;241m=\u001b[39m \u001b[38;5;124m'\u001b[39m\u001b[38;5;124m[name=\u001b[39m\u001b[38;5;124m\"\u001b[39m\u001b[38;5;132;01m%s\u001b[39;00m\u001b[38;5;124m\"\u001b[39m\u001b[38;5;124m]\u001b[39m\u001b[38;5;124m'\u001b[39m \u001b[38;5;241m%\u001b[39m value\n\u001b[1;32m-> 1251\u001b[0m \u001b[38;5;28;01mreturn\u001b[39;00m \u001b[38;5;28;43mself\u001b[39;49m\u001b[38;5;241;43m.\u001b[39;49m\u001b[43mexecute\u001b[49m\u001b[43m(\u001b[49m\u001b[43mCommand\u001b[49m\u001b[38;5;241;43m.\u001b[39;49m\u001b[43mFIND_ELEMENT\u001b[49m\u001b[43m,\u001b[49m\u001b[43m \u001b[49m\u001b[43m{\u001b[49m\n\u001b[0;32m   1252\u001b[0m \u001b[43m    \u001b[49m\u001b[38;5;124;43m'\u001b[39;49m\u001b[38;5;124;43musing\u001b[39;49m\u001b[38;5;124;43m'\u001b[39;49m\u001b[43m:\u001b[49m\u001b[43m \u001b[49m\u001b[43mby\u001b[49m\u001b[43m,\u001b[49m\n\u001b[0;32m   1253\u001b[0m \u001b[43m    \u001b[49m\u001b[38;5;124;43m'\u001b[39;49m\u001b[38;5;124;43mvalue\u001b[39;49m\u001b[38;5;124;43m'\u001b[39;49m\u001b[43m:\u001b[49m\u001b[43m \u001b[49m\u001b[43mvalue\u001b[49m\u001b[43m}\u001b[49m\u001b[43m)\u001b[49m[\u001b[38;5;124m'\u001b[39m\u001b[38;5;124mvalue\u001b[39m\u001b[38;5;124m'\u001b[39m]\n",
      "File \u001b[1;32m~\\AppData\\Local\\Programs\\Python\\Python310\\lib\\site-packages\\selenium\\webdriver\\remote\\webdriver.py:430\u001b[0m, in \u001b[0;36mWebDriver.execute\u001b[1;34m(self, driver_command, params)\u001b[0m\n\u001b[0;32m    428\u001b[0m response \u001b[38;5;241m=\u001b[39m \u001b[38;5;28mself\u001b[39m\u001b[38;5;241m.\u001b[39mcommand_executor\u001b[38;5;241m.\u001b[39mexecute(driver_command, params)\n\u001b[0;32m    429\u001b[0m \u001b[38;5;28;01mif\u001b[39;00m response:\n\u001b[1;32m--> 430\u001b[0m     \u001b[38;5;28;43mself\u001b[39;49m\u001b[38;5;241;43m.\u001b[39;49m\u001b[43merror_handler\u001b[49m\u001b[38;5;241;43m.\u001b[39;49m\u001b[43mcheck_response\u001b[49m\u001b[43m(\u001b[49m\u001b[43mresponse\u001b[49m\u001b[43m)\u001b[49m\n\u001b[0;32m    431\u001b[0m     response[\u001b[38;5;124m'\u001b[39m\u001b[38;5;124mvalue\u001b[39m\u001b[38;5;124m'\u001b[39m] \u001b[38;5;241m=\u001b[39m \u001b[38;5;28mself\u001b[39m\u001b[38;5;241m.\u001b[39m_unwrap_value(\n\u001b[0;32m    432\u001b[0m         response\u001b[38;5;241m.\u001b[39mget(\u001b[38;5;124m'\u001b[39m\u001b[38;5;124mvalue\u001b[39m\u001b[38;5;124m'\u001b[39m, \u001b[38;5;28;01mNone\u001b[39;00m))\n\u001b[0;32m    433\u001b[0m     \u001b[38;5;28;01mreturn\u001b[39;00m response\n",
      "File \u001b[1;32m~\\AppData\\Local\\Programs\\Python\\Python310\\lib\\site-packages\\selenium\\webdriver\\remote\\errorhandler.py:247\u001b[0m, in \u001b[0;36mErrorHandler.check_response\u001b[1;34m(self, response)\u001b[0m\n\u001b[0;32m    245\u001b[0m         alert_text \u001b[38;5;241m=\u001b[39m value[\u001b[38;5;124m'\u001b[39m\u001b[38;5;124malert\u001b[39m\u001b[38;5;124m'\u001b[39m]\u001b[38;5;241m.\u001b[39mget(\u001b[38;5;124m'\u001b[39m\u001b[38;5;124mtext\u001b[39m\u001b[38;5;124m'\u001b[39m)\n\u001b[0;32m    246\u001b[0m     \u001b[38;5;28;01mraise\u001b[39;00m exception_class(message, screen, stacktrace, alert_text)  \u001b[38;5;66;03m# type: ignore[call-arg]  # mypy is not smart enough here\u001b[39;00m\n\u001b[1;32m--> 247\u001b[0m \u001b[38;5;28;01mraise\u001b[39;00m exception_class(message, screen, stacktrace)\n",
      "\u001b[1;31mInvalidSelectorException\u001b[0m: Message: invalid selector: An invalid or illegal selector was specified\n  (Session info: MicrosoftEdge=102.0.1245.44)\nStacktrace:\nBacktrace:\n\tMicrosoft::Applications::Events::EventProperties::unpack [0x00007FF640563A62+24578]\n\tMicrosoft::Applications::Events::time_ticks_t::time_ticks_t [0x00007FF64049E5D2+563682]\n\tOrdinal0 [0x00007FF63FFA0FB5+659381]\n\tOrdinal0 [0x00007FF63FFA454A+673098]\n\tOrdinal0 [0x00007FF63FFA42CB+672459]\n\tOrdinal0 [0x00007FF63FFA4680+673408]\n\tOrdinal0 [0x00007FF63FFDC005+901125]\n\tOrdinal0 [0x00007FF63FFDC513+902419]\n\tOrdinal0 [0x00007FF64000E467+1107047]\n\tOrdinal0 [0x00007FF63FFF77EF+1013743]\n\tOrdinal0 [0x00007FF64000BAD7+1096407]\n\tOrdinal0 [0x00007FF63FFF75C3+1013187]\n\tOrdinal0 [0x00007FF63FFCE4E0+845024]\n\tOrdinal0 [0x00007FF63FFCF8D8+850136]\n\tMicrosoft::Applications::Events::EventProperty::EventProperty [0x00007FF640255278+119992]\n\tMicrosoft::Applications::Events::EventProperty::EventProperty [0x00007FF640240D87+36807]\n\tMicrosoft::Applications::Events::EventProperty::EventProperty [0x00007FF640243F1C+49500]\n\tMicrosoft::Applications::Events::EventProperty::to_string [0x00007FF64009F606+20582]\n\tMicrosoft::Applications::Events::time_ticks_t::time_ticks_t [0x00007FF6404A5A3B+593483]\n\tMicrosoft::Applications::Events::time_ticks_t::time_ticks_t [0x00007FF6404AAF74+615300]\n\tMicrosoft::Applications::Events::time_ticks_t::time_ticks_t [0x00007FF6404AB0CD+615645]\n\tMicrosoft::Applications::Events::time_ticks_t::time_ticks_t [0x00007FF6404B5CDE+659694]\n\tBaseThreadInitThunk [0x00007FFB35A754E0+16]\n\tRtlUserThreadStart [0x00007FFB36BA485B+43]\n"
     ]
    }
   ],
   "source": [
    "#browser.find_element(by=By.XPATH,value = '//button[@class=\"Button Modal-closeButton Button--plain\"]').click()\n",
    "browser.find_element(by=By.CSS_SELECTOR, value = '/html/body/div[4]/div/div/div/div[2]/button').click()\n",
    "# 复制selector body > div:nth-child(28) > div > div > div > div.Modal.Modal--default.signFlowModal > button\n",
    "# 复制js路径  document.querySelector(\"body > div:nth-child(28) > div > div > div > div.Modal.Modal--default.signFlowModal > button\")\n",
    "# 复制xpath  /html/body/div[4]/div/div/div/div[2]/button"
   ]
  },
  {
   "cell_type": "code",
   "execution_count": 16,
   "id": "3d9953f9-5fc3-4927-9c7b-877ffdf363ea",
   "metadata": {
    "collapsed": true,
    "jupyter": {
     "outputs_hidden": true
    },
    "tags": []
   },
   "outputs": [
    {
     "ename": "NoSuchElementException",
     "evalue": "Message: no such element: Unable to locate element: {\"method\":\"xpath\",\"selector\":\"/html/body/div[4]/div/div/div/div[2]/button\"}\n  (Session info: MicrosoftEdge=102.0.1245.44)\nStacktrace:\nBacktrace:\n\tMicrosoft::Applications::Events::EventProperties::unpack [0x00007FF640563A62+24578]\n\tMicrosoft::Applications::Events::time_ticks_t::time_ticks_t [0x00007FF64049E5D2+563682]\n\tOrdinal0 [0x00007FF63FFA0FB5+659381]\n\tOrdinal0 [0x00007FF63FFDC25F+901727]\n\tOrdinal0 [0x00007FF63FFDC513+902419]\n\tOrdinal0 [0x00007FF64000E467+1107047]\n\tOrdinal0 [0x00007FF63FFF77EF+1013743]\n\tOrdinal0 [0x00007FF64000BAD7+1096407]\n\tOrdinal0 [0x00007FF63FFF75C3+1013187]\n\tOrdinal0 [0x00007FF63FFCE4E0+845024]\n\tOrdinal0 [0x00007FF63FFCF8D8+850136]\n\tMicrosoft::Applications::Events::EventProperty::EventProperty [0x00007FF640255278+119992]\n\tMicrosoft::Applications::Events::EventProperty::EventProperty [0x00007FF640240D87+36807]\n\tMicrosoft::Applications::Events::EventProperty::EventProperty [0x00007FF640243F1C+49500]\n\tMicrosoft::Applications::Events::EventProperty::to_string [0x00007FF64009F606+20582]\n\tMicrosoft::Applications::Events::time_ticks_t::time_ticks_t [0x00007FF6404A5A3B+593483]\n\tMicrosoft::Applications::Events::time_ticks_t::time_ticks_t [0x00007FF6404AAF74+615300]\n\tMicrosoft::Applications::Events::time_ticks_t::time_ticks_t [0x00007FF6404AB0CD+615645]\n\tMicrosoft::Applications::Events::time_ticks_t::time_ticks_t [0x00007FF6404B5CDE+659694]\n\tBaseThreadInitThunk [0x00007FFB35A754E0+16]\n\tRtlUserThreadStart [0x00007FFB36BA485B+43]\n",
     "output_type": "error",
     "traceback": [
      "\u001b[1;31m---------------------------------------------------------------------------\u001b[0m",
      "\u001b[1;31mNoSuchElementException\u001b[0m                    Traceback (most recent call last)",
      "Input \u001b[1;32mIn [16]\u001b[0m, in \u001b[0;36m<cell line: 1>\u001b[1;34m()\u001b[0m\n\u001b[1;32m----> 1\u001b[0m \u001b[43mbrowser\u001b[49m\u001b[38;5;241;43m.\u001b[39;49m\u001b[43mfind_element\u001b[49m\u001b[43m(\u001b[49m\u001b[43mby\u001b[49m\u001b[38;5;241;43m=\u001b[39;49m\u001b[43mBy\u001b[49m\u001b[38;5;241;43m.\u001b[39;49m\u001b[43mXPATH\u001b[49m\u001b[43m,\u001b[49m\u001b[43m \u001b[49m\u001b[43mvalue\u001b[49m\u001b[43m \u001b[49m\u001b[38;5;241;43m=\u001b[39;49m\u001b[43m \u001b[49m\u001b[38;5;124;43m'\u001b[39;49m\u001b[38;5;124;43m/html/body/div[4]/div/div/div/div[2]/button\u001b[39;49m\u001b[38;5;124;43m'\u001b[39;49m\u001b[43m)\u001b[49m\u001b[38;5;241m.\u001b[39mclick()\n",
      "File \u001b[1;32m~\\AppData\\Local\\Programs\\Python\\Python310\\lib\\site-packages\\selenium\\webdriver\\remote\\webdriver.py:1251\u001b[0m, in \u001b[0;36mWebDriver.find_element\u001b[1;34m(self, by, value)\u001b[0m\n\u001b[0;32m   1248\u001b[0m     by \u001b[38;5;241m=\u001b[39m By\u001b[38;5;241m.\u001b[39mCSS_SELECTOR\n\u001b[0;32m   1249\u001b[0m     value \u001b[38;5;241m=\u001b[39m \u001b[38;5;124m'\u001b[39m\u001b[38;5;124m[name=\u001b[39m\u001b[38;5;124m\"\u001b[39m\u001b[38;5;132;01m%s\u001b[39;00m\u001b[38;5;124m\"\u001b[39m\u001b[38;5;124m]\u001b[39m\u001b[38;5;124m'\u001b[39m \u001b[38;5;241m%\u001b[39m value\n\u001b[1;32m-> 1251\u001b[0m \u001b[38;5;28;01mreturn\u001b[39;00m \u001b[38;5;28;43mself\u001b[39;49m\u001b[38;5;241;43m.\u001b[39;49m\u001b[43mexecute\u001b[49m\u001b[43m(\u001b[49m\u001b[43mCommand\u001b[49m\u001b[38;5;241;43m.\u001b[39;49m\u001b[43mFIND_ELEMENT\u001b[49m\u001b[43m,\u001b[49m\u001b[43m \u001b[49m\u001b[43m{\u001b[49m\n\u001b[0;32m   1252\u001b[0m \u001b[43m    \u001b[49m\u001b[38;5;124;43m'\u001b[39;49m\u001b[38;5;124;43musing\u001b[39;49m\u001b[38;5;124;43m'\u001b[39;49m\u001b[43m:\u001b[49m\u001b[43m \u001b[49m\u001b[43mby\u001b[49m\u001b[43m,\u001b[49m\n\u001b[0;32m   1253\u001b[0m \u001b[43m    \u001b[49m\u001b[38;5;124;43m'\u001b[39;49m\u001b[38;5;124;43mvalue\u001b[39;49m\u001b[38;5;124;43m'\u001b[39;49m\u001b[43m:\u001b[49m\u001b[43m \u001b[49m\u001b[43mvalue\u001b[49m\u001b[43m}\u001b[49m\u001b[43m)\u001b[49m[\u001b[38;5;124m'\u001b[39m\u001b[38;5;124mvalue\u001b[39m\u001b[38;5;124m'\u001b[39m]\n",
      "File \u001b[1;32m~\\AppData\\Local\\Programs\\Python\\Python310\\lib\\site-packages\\selenium\\webdriver\\remote\\webdriver.py:430\u001b[0m, in \u001b[0;36mWebDriver.execute\u001b[1;34m(self, driver_command, params)\u001b[0m\n\u001b[0;32m    428\u001b[0m response \u001b[38;5;241m=\u001b[39m \u001b[38;5;28mself\u001b[39m\u001b[38;5;241m.\u001b[39mcommand_executor\u001b[38;5;241m.\u001b[39mexecute(driver_command, params)\n\u001b[0;32m    429\u001b[0m \u001b[38;5;28;01mif\u001b[39;00m response:\n\u001b[1;32m--> 430\u001b[0m     \u001b[38;5;28;43mself\u001b[39;49m\u001b[38;5;241;43m.\u001b[39;49m\u001b[43merror_handler\u001b[49m\u001b[38;5;241;43m.\u001b[39;49m\u001b[43mcheck_response\u001b[49m\u001b[43m(\u001b[49m\u001b[43mresponse\u001b[49m\u001b[43m)\u001b[49m\n\u001b[0;32m    431\u001b[0m     response[\u001b[38;5;124m'\u001b[39m\u001b[38;5;124mvalue\u001b[39m\u001b[38;5;124m'\u001b[39m] \u001b[38;5;241m=\u001b[39m \u001b[38;5;28mself\u001b[39m\u001b[38;5;241m.\u001b[39m_unwrap_value(\n\u001b[0;32m    432\u001b[0m         response\u001b[38;5;241m.\u001b[39mget(\u001b[38;5;124m'\u001b[39m\u001b[38;5;124mvalue\u001b[39m\u001b[38;5;124m'\u001b[39m, \u001b[38;5;28;01mNone\u001b[39;00m))\n\u001b[0;32m    433\u001b[0m     \u001b[38;5;28;01mreturn\u001b[39;00m response\n",
      "File \u001b[1;32m~\\AppData\\Local\\Programs\\Python\\Python310\\lib\\site-packages\\selenium\\webdriver\\remote\\errorhandler.py:247\u001b[0m, in \u001b[0;36mErrorHandler.check_response\u001b[1;34m(self, response)\u001b[0m\n\u001b[0;32m    245\u001b[0m         alert_text \u001b[38;5;241m=\u001b[39m value[\u001b[38;5;124m'\u001b[39m\u001b[38;5;124malert\u001b[39m\u001b[38;5;124m'\u001b[39m]\u001b[38;5;241m.\u001b[39mget(\u001b[38;5;124m'\u001b[39m\u001b[38;5;124mtext\u001b[39m\u001b[38;5;124m'\u001b[39m)\n\u001b[0;32m    246\u001b[0m     \u001b[38;5;28;01mraise\u001b[39;00m exception_class(message, screen, stacktrace, alert_text)  \u001b[38;5;66;03m# type: ignore[call-arg]  # mypy is not smart enough here\u001b[39;00m\n\u001b[1;32m--> 247\u001b[0m \u001b[38;5;28;01mraise\u001b[39;00m exception_class(message, screen, stacktrace)\n",
      "\u001b[1;31mNoSuchElementException\u001b[0m: Message: no such element: Unable to locate element: {\"method\":\"xpath\",\"selector\":\"/html/body/div[4]/div/div/div/div[2]/button\"}\n  (Session info: MicrosoftEdge=102.0.1245.44)\nStacktrace:\nBacktrace:\n\tMicrosoft::Applications::Events::EventProperties::unpack [0x00007FF640563A62+24578]\n\tMicrosoft::Applications::Events::time_ticks_t::time_ticks_t [0x00007FF64049E5D2+563682]\n\tOrdinal0 [0x00007FF63FFA0FB5+659381]\n\tOrdinal0 [0x00007FF63FFDC25F+901727]\n\tOrdinal0 [0x00007FF63FFDC513+902419]\n\tOrdinal0 [0x00007FF64000E467+1107047]\n\tOrdinal0 [0x00007FF63FFF77EF+1013743]\n\tOrdinal0 [0x00007FF64000BAD7+1096407]\n\tOrdinal0 [0x00007FF63FFF75C3+1013187]\n\tOrdinal0 [0x00007FF63FFCE4E0+845024]\n\tOrdinal0 [0x00007FF63FFCF8D8+850136]\n\tMicrosoft::Applications::Events::EventProperty::EventProperty [0x00007FF640255278+119992]\n\tMicrosoft::Applications::Events::EventProperty::EventProperty [0x00007FF640240D87+36807]\n\tMicrosoft::Applications::Events::EventProperty::EventProperty [0x00007FF640243F1C+49500]\n\tMicrosoft::Applications::Events::EventProperty::to_string [0x00007FF64009F606+20582]\n\tMicrosoft::Applications::Events::time_ticks_t::time_ticks_t [0x00007FF6404A5A3B+593483]\n\tMicrosoft::Applications::Events::time_ticks_t::time_ticks_t [0x00007FF6404AAF74+615300]\n\tMicrosoft::Applications::Events::time_ticks_t::time_ticks_t [0x00007FF6404AB0CD+615645]\n\tMicrosoft::Applications::Events::time_ticks_t::time_ticks_t [0x00007FF6404B5CDE+659694]\n\tBaseThreadInitThunk [0x00007FFB35A754E0+16]\n\tRtlUserThreadStart [0x00007FFB36BA485B+43]\n"
     ]
    }
   ],
   "source": [
    "browser.find_element(by=By.XPATH, value = '/html/body/div[4]/div/div/div/div[2]/button').click()\n"
   ]
  },
  {
   "cell_type": "markdown",
   "id": "7bf394e7-b317-465b-8bef-09837d457d35",
   "metadata": {},
   "source": [
    "弹窗关闭不行，测试登录点击是否可以"
   ]
  },
  {
   "cell_type": "code",
   "execution_count": 23,
   "id": "b09f5919-0502-4ebd-a9db-deb9b2cfb29c",
   "metadata": {
    "collapsed": true,
    "jupyter": {
     "outputs_hidden": true
    },
    "tags": []
   },
   "outputs": [
    {
     "ename": "NoAlertPresentException",
     "evalue": "Message: no such alert\n  (Session info: MicrosoftEdge=102.0.1245.44)\nStacktrace:\nBacktrace:\n\tMicrosoft::Applications::Events::EventProperties::unpack [0x00007FF640563A62+24578]\n\tMicrosoft::Applications::Events::time_ticks_t::time_ticks_t [0x00007FF64049E5D2+563682]\n\tOrdinal0 [0x00007FF63FFA0E6B+659051]\n\tOrdinal0 [0x00007FF63FF96B33+617267]\n\tOrdinal0 [0x00007FF63FFB781F+751647]\n\tOrdinal0 [0x00007FF63FFF782D+1013805]\n\tOrdinal0 [0x00007FF63FFB74D5+750805]\n\tOrdinal0 [0x00007FF63FFF75C3+1013187]\n\tOrdinal0 [0x00007FF63FFCE4E0+845024]\n\tOrdinal0 [0x00007FF63FFCF8D8+850136]\n\tMicrosoft::Applications::Events::EventProperty::EventProperty [0x00007FF640255278+119992]\n\tMicrosoft::Applications::Events::EventProperty::EventProperty [0x00007FF640240D87+36807]\n\tMicrosoft::Applications::Events::EventProperty::EventProperty [0x00007FF640243F1C+49500]\n\tMicrosoft::Applications::Events::EventProperty::to_string [0x00007FF64009F606+20582]\n\tMicrosoft::Applications::Events::time_ticks_t::time_ticks_t [0x00007FF6404A5A3B+593483]\n\tMicrosoft::Applications::Events::time_ticks_t::time_ticks_t [0x00007FF6404AAF74+615300]\n\tMicrosoft::Applications::Events::time_ticks_t::time_ticks_t [0x00007FF6404AB0CD+615645]\n\tMicrosoft::Applications::Events::time_ticks_t::time_ticks_t [0x00007FF6404B5CDE+659694]\n\tBaseThreadInitThunk [0x00007FFB35A754E0+16]\n\tRtlUserThreadStart [0x00007FFB36BA485B+43]\n",
     "output_type": "error",
     "traceback": [
      "\u001b[1;31m---------------------------------------------------------------------------\u001b[0m",
      "\u001b[1;31mNoAlertPresentException\u001b[0m                   Traceback (most recent call last)",
      "Input \u001b[1;32mIn [23]\u001b[0m, in \u001b[0;36m<cell line: 1>\u001b[1;34m()\u001b[0m\n\u001b[1;32m----> 1\u001b[0m alter \u001b[38;5;241m=\u001b[39m \u001b[43mbrowser\u001b[49m\u001b[38;5;241;43m.\u001b[39;49m\u001b[43mswitch_to\u001b[49m\u001b[38;5;241;43m.\u001b[39;49m\u001b[43malert\u001b[49m\n\u001b[0;32m      2\u001b[0m \u001b[38;5;66;03m#打印对话框内容\u001b[39;00m\n\u001b[0;32m      3\u001b[0m \u001b[38;5;28mprint\u001b[39m(alter)\n",
      "File \u001b[1;32m~\\AppData\\Local\\Programs\\Python\\Python310\\lib\\site-packages\\selenium\\webdriver\\remote\\switch_to.py:56\u001b[0m, in \u001b[0;36mSwitchTo.alert\u001b[1;34m(self)\u001b[0m\n\u001b[0;32m     47\u001b[0m \u001b[38;5;124;03m\"\"\"\u001b[39;00m\n\u001b[0;32m     48\u001b[0m \u001b[38;5;124;03mSwitches focus to an alert on the page.\u001b[39;00m\n\u001b[0;32m     49\u001b[0m \n\u001b[1;32m   (...)\u001b[0m\n\u001b[0;32m     53\u001b[0m \u001b[38;5;124;03m        alert = driver.switch_to.alert\u001b[39;00m\n\u001b[0;32m     54\u001b[0m \u001b[38;5;124;03m\"\"\"\u001b[39;00m\n\u001b[0;32m     55\u001b[0m alert \u001b[38;5;241m=\u001b[39m Alert(\u001b[38;5;28mself\u001b[39m\u001b[38;5;241m.\u001b[39m_driver)\n\u001b[1;32m---> 56\u001b[0m _ \u001b[38;5;241m=\u001b[39m \u001b[43malert\u001b[49m\u001b[38;5;241;43m.\u001b[39;49m\u001b[43mtext\u001b[49m\n\u001b[0;32m     57\u001b[0m \u001b[38;5;28;01mreturn\u001b[39;00m alert\n",
      "File \u001b[1;32m~\\AppData\\Local\\Programs\\Python\\Python310\\lib\\site-packages\\selenium\\webdriver\\common\\alert.py:66\u001b[0m, in \u001b[0;36mAlert.text\u001b[1;34m(self)\u001b[0m\n\u001b[0;32m     61\u001b[0m \u001b[38;5;129m@property\u001b[39m\n\u001b[0;32m     62\u001b[0m \u001b[38;5;28;01mdef\u001b[39;00m \u001b[38;5;21mtext\u001b[39m(\u001b[38;5;28mself\u001b[39m):\n\u001b[0;32m     63\u001b[0m     \u001b[38;5;124;03m\"\"\"\u001b[39;00m\n\u001b[0;32m     64\u001b[0m \u001b[38;5;124;03m    Gets the text of the Alert.\u001b[39;00m\n\u001b[0;32m     65\u001b[0m \u001b[38;5;124;03m    \"\"\"\u001b[39;00m\n\u001b[1;32m---> 66\u001b[0m     \u001b[38;5;28;01mreturn\u001b[39;00m \u001b[38;5;28;43mself\u001b[39;49m\u001b[38;5;241;43m.\u001b[39;49m\u001b[43mdriver\u001b[49m\u001b[38;5;241;43m.\u001b[39;49m\u001b[43mexecute\u001b[49m\u001b[43m(\u001b[49m\u001b[43mCommand\u001b[49m\u001b[38;5;241;43m.\u001b[39;49m\u001b[43mW3C_GET_ALERT_TEXT\u001b[49m\u001b[43m)\u001b[49m[\u001b[38;5;124m\"\u001b[39m\u001b[38;5;124mvalue\u001b[39m\u001b[38;5;124m\"\u001b[39m]\n",
      "File \u001b[1;32m~\\AppData\\Local\\Programs\\Python\\Python310\\lib\\site-packages\\selenium\\webdriver\\remote\\webdriver.py:430\u001b[0m, in \u001b[0;36mWebDriver.execute\u001b[1;34m(self, driver_command, params)\u001b[0m\n\u001b[0;32m    428\u001b[0m response \u001b[38;5;241m=\u001b[39m \u001b[38;5;28mself\u001b[39m\u001b[38;5;241m.\u001b[39mcommand_executor\u001b[38;5;241m.\u001b[39mexecute(driver_command, params)\n\u001b[0;32m    429\u001b[0m \u001b[38;5;28;01mif\u001b[39;00m response:\n\u001b[1;32m--> 430\u001b[0m     \u001b[38;5;28;43mself\u001b[39;49m\u001b[38;5;241;43m.\u001b[39;49m\u001b[43merror_handler\u001b[49m\u001b[38;5;241;43m.\u001b[39;49m\u001b[43mcheck_response\u001b[49m\u001b[43m(\u001b[49m\u001b[43mresponse\u001b[49m\u001b[43m)\u001b[49m\n\u001b[0;32m    431\u001b[0m     response[\u001b[38;5;124m'\u001b[39m\u001b[38;5;124mvalue\u001b[39m\u001b[38;5;124m'\u001b[39m] \u001b[38;5;241m=\u001b[39m \u001b[38;5;28mself\u001b[39m\u001b[38;5;241m.\u001b[39m_unwrap_value(\n\u001b[0;32m    432\u001b[0m         response\u001b[38;5;241m.\u001b[39mget(\u001b[38;5;124m'\u001b[39m\u001b[38;5;124mvalue\u001b[39m\u001b[38;5;124m'\u001b[39m, \u001b[38;5;28;01mNone\u001b[39;00m))\n\u001b[0;32m    433\u001b[0m     \u001b[38;5;28;01mreturn\u001b[39;00m response\n",
      "File \u001b[1;32m~\\AppData\\Local\\Programs\\Python\\Python310\\lib\\site-packages\\selenium\\webdriver\\remote\\errorhandler.py:247\u001b[0m, in \u001b[0;36mErrorHandler.check_response\u001b[1;34m(self, response)\u001b[0m\n\u001b[0;32m    245\u001b[0m         alert_text \u001b[38;5;241m=\u001b[39m value[\u001b[38;5;124m'\u001b[39m\u001b[38;5;124malert\u001b[39m\u001b[38;5;124m'\u001b[39m]\u001b[38;5;241m.\u001b[39mget(\u001b[38;5;124m'\u001b[39m\u001b[38;5;124mtext\u001b[39m\u001b[38;5;124m'\u001b[39m)\n\u001b[0;32m    246\u001b[0m     \u001b[38;5;28;01mraise\u001b[39;00m exception_class(message, screen, stacktrace, alert_text)  \u001b[38;5;66;03m# type: ignore[call-arg]  # mypy is not smart enough here\u001b[39;00m\n\u001b[1;32m--> 247\u001b[0m \u001b[38;5;28;01mraise\u001b[39;00m exception_class(message, screen, stacktrace)\n",
      "\u001b[1;31mNoAlertPresentException\u001b[0m: Message: no such alert\n  (Session info: MicrosoftEdge=102.0.1245.44)\nStacktrace:\nBacktrace:\n\tMicrosoft::Applications::Events::EventProperties::unpack [0x00007FF640563A62+24578]\n\tMicrosoft::Applications::Events::time_ticks_t::time_ticks_t [0x00007FF64049E5D2+563682]\n\tOrdinal0 [0x00007FF63FFA0E6B+659051]\n\tOrdinal0 [0x00007FF63FF96B33+617267]\n\tOrdinal0 [0x00007FF63FFB781F+751647]\n\tOrdinal0 [0x00007FF63FFF782D+1013805]\n\tOrdinal0 [0x00007FF63FFB74D5+750805]\n\tOrdinal0 [0x00007FF63FFF75C3+1013187]\n\tOrdinal0 [0x00007FF63FFCE4E0+845024]\n\tOrdinal0 [0x00007FF63FFCF8D8+850136]\n\tMicrosoft::Applications::Events::EventProperty::EventProperty [0x00007FF640255278+119992]\n\tMicrosoft::Applications::Events::EventProperty::EventProperty [0x00007FF640240D87+36807]\n\tMicrosoft::Applications::Events::EventProperty::EventProperty [0x00007FF640243F1C+49500]\n\tMicrosoft::Applications::Events::EventProperty::to_string [0x00007FF64009F606+20582]\n\tMicrosoft::Applications::Events::time_ticks_t::time_ticks_t [0x00007FF6404A5A3B+593483]\n\tMicrosoft::Applications::Events::time_ticks_t::time_ticks_t [0x00007FF6404AAF74+615300]\n\tMicrosoft::Applications::Events::time_ticks_t::time_ticks_t [0x00007FF6404AB0CD+615645]\n\tMicrosoft::Applications::Events::time_ticks_t::time_ticks_t [0x00007FF6404B5CDE+659694]\n\tBaseThreadInitThunk [0x00007FFB35A754E0+16]\n\tRtlUserThreadStart [0x00007FFB36BA485B+43]\n"
     ]
    }
   ],
   "source": [
    "alter = browser.switch_to.alert\n",
    "#打印对话框内容\n",
    "print(alter)\n",
    "print(alter.text)\n",
    "alter.dismiss()"
   ]
  },
  {
   "cell_type": "code",
   "execution_count": 25,
   "id": "a7b03546-0d02-4cb7-9ef3-045c3669bc11",
   "metadata": {
    "collapsed": true,
    "jupyter": {
     "outputs_hidden": true
    },
    "tags": []
   },
   "outputs": [
    {
     "ename": "NoSuchElementException",
     "evalue": "Message: no such element: Unable to locate element: {\"method\":\"xpath\",\"selector\":\"/html/body/div[4]/div/div/div/div[1]\"}\n  (Session info: MicrosoftEdge=102.0.1245.44)\nStacktrace:\nBacktrace:\n\tMicrosoft::Applications::Events::EventProperties::unpack [0x00007FF640563A62+24578]\n\tMicrosoft::Applications::Events::time_ticks_t::time_ticks_t [0x00007FF64049E5D2+563682]\n\tOrdinal0 [0x00007FF63FFA0FB5+659381]\n\tOrdinal0 [0x00007FF63FFDC25F+901727]\n\tOrdinal0 [0x00007FF63FFDC513+902419]\n\tOrdinal0 [0x00007FF64000E467+1107047]\n\tOrdinal0 [0x00007FF63FFF77EF+1013743]\n\tOrdinal0 [0x00007FF64000BAD7+1096407]\n\tOrdinal0 [0x00007FF63FFF75C3+1013187]\n\tOrdinal0 [0x00007FF63FFCE4E0+845024]\n\tOrdinal0 [0x00007FF63FFCF8D8+850136]\n\tMicrosoft::Applications::Events::EventProperty::EventProperty [0x00007FF640255278+119992]\n\tMicrosoft::Applications::Events::EventProperty::EventProperty [0x00007FF640240D87+36807]\n\tMicrosoft::Applications::Events::EventProperty::EventProperty [0x00007FF640243F1C+49500]\n\tMicrosoft::Applications::Events::EventProperty::to_string [0x00007FF64009F606+20582]\n\tMicrosoft::Applications::Events::time_ticks_t::time_ticks_t [0x00007FF6404A5A3B+593483]\n\tMicrosoft::Applications::Events::time_ticks_t::time_ticks_t [0x00007FF6404AAF74+615300]\n\tMicrosoft::Applications::Events::time_ticks_t::time_ticks_t [0x00007FF6404AB0CD+615645]\n\tMicrosoft::Applications::Events::time_ticks_t::time_ticks_t [0x00007FF6404B5CDE+659694]\n\tBaseThreadInitThunk [0x00007FFB35A754E0+16]\n\tRtlUserThreadStart [0x00007FFB36BA485B+43]\n",
     "output_type": "error",
     "traceback": [
      "\u001b[1;31m---------------------------------------------------------------------------\u001b[0m",
      "\u001b[1;31mNoSuchElementException\u001b[0m                    Traceback (most recent call last)",
      "Input \u001b[1;32mIn [25]\u001b[0m, in \u001b[0;36m<cell line: 2>\u001b[1;34m()\u001b[0m\n\u001b[0;32m      1\u001b[0m \u001b[38;5;28;01mfrom\u001b[39;00m \u001b[38;5;21;01mselenium\u001b[39;00m\u001b[38;5;21;01m.\u001b[39;00m\u001b[38;5;21;01mwebdriver\u001b[39;00m\u001b[38;5;21;01m.\u001b[39;00m\u001b[38;5;21;01mcommon\u001b[39;00m\u001b[38;5;21;01m.\u001b[39;00m\u001b[38;5;21;01mkeys\u001b[39;00m \u001b[38;5;28;01mimport\u001b[39;00m Keys\n\u001b[1;32m----> 2\u001b[0m \u001b[43mbrowser\u001b[49m\u001b[38;5;241;43m.\u001b[39;49m\u001b[43mfind_element\u001b[49m\u001b[43m(\u001b[49m\u001b[43mby\u001b[49m\u001b[38;5;241;43m=\u001b[39;49m\u001b[43mBy\u001b[49m\u001b[38;5;241;43m.\u001b[39;49m\u001b[43mXPATH\u001b[49m\u001b[43m,\u001b[49m\u001b[43m \u001b[49m\u001b[43mvalue\u001b[49m\u001b[43m \u001b[49m\u001b[38;5;241;43m=\u001b[39;49m\u001b[43m \u001b[49m\u001b[38;5;124;43m'\u001b[39;49m\u001b[38;5;124;43m/html/body/div[4]/div/div/div/div[1]\u001b[39;49m\u001b[38;5;124;43m'\u001b[39;49m\u001b[43m)\u001b[49m\u001b[38;5;241m.\u001b[39msend_keys(Keys\u001b[38;5;241m.\u001b[39mESCAPE)\n",
      "File \u001b[1;32m~\\AppData\\Local\\Programs\\Python\\Python310\\lib\\site-packages\\selenium\\webdriver\\remote\\webdriver.py:1251\u001b[0m, in \u001b[0;36mWebDriver.find_element\u001b[1;34m(self, by, value)\u001b[0m\n\u001b[0;32m   1248\u001b[0m     by \u001b[38;5;241m=\u001b[39m By\u001b[38;5;241m.\u001b[39mCSS_SELECTOR\n\u001b[0;32m   1249\u001b[0m     value \u001b[38;5;241m=\u001b[39m \u001b[38;5;124m'\u001b[39m\u001b[38;5;124m[name=\u001b[39m\u001b[38;5;124m\"\u001b[39m\u001b[38;5;132;01m%s\u001b[39;00m\u001b[38;5;124m\"\u001b[39m\u001b[38;5;124m]\u001b[39m\u001b[38;5;124m'\u001b[39m \u001b[38;5;241m%\u001b[39m value\n\u001b[1;32m-> 1251\u001b[0m \u001b[38;5;28;01mreturn\u001b[39;00m \u001b[38;5;28;43mself\u001b[39;49m\u001b[38;5;241;43m.\u001b[39;49m\u001b[43mexecute\u001b[49m\u001b[43m(\u001b[49m\u001b[43mCommand\u001b[49m\u001b[38;5;241;43m.\u001b[39;49m\u001b[43mFIND_ELEMENT\u001b[49m\u001b[43m,\u001b[49m\u001b[43m \u001b[49m\u001b[43m{\u001b[49m\n\u001b[0;32m   1252\u001b[0m \u001b[43m    \u001b[49m\u001b[38;5;124;43m'\u001b[39;49m\u001b[38;5;124;43musing\u001b[39;49m\u001b[38;5;124;43m'\u001b[39;49m\u001b[43m:\u001b[49m\u001b[43m \u001b[49m\u001b[43mby\u001b[49m\u001b[43m,\u001b[49m\n\u001b[0;32m   1253\u001b[0m \u001b[43m    \u001b[49m\u001b[38;5;124;43m'\u001b[39;49m\u001b[38;5;124;43mvalue\u001b[39;49m\u001b[38;5;124;43m'\u001b[39;49m\u001b[43m:\u001b[49m\u001b[43m \u001b[49m\u001b[43mvalue\u001b[49m\u001b[43m}\u001b[49m\u001b[43m)\u001b[49m[\u001b[38;5;124m'\u001b[39m\u001b[38;5;124mvalue\u001b[39m\u001b[38;5;124m'\u001b[39m]\n",
      "File \u001b[1;32m~\\AppData\\Local\\Programs\\Python\\Python310\\lib\\site-packages\\selenium\\webdriver\\remote\\webdriver.py:430\u001b[0m, in \u001b[0;36mWebDriver.execute\u001b[1;34m(self, driver_command, params)\u001b[0m\n\u001b[0;32m    428\u001b[0m response \u001b[38;5;241m=\u001b[39m \u001b[38;5;28mself\u001b[39m\u001b[38;5;241m.\u001b[39mcommand_executor\u001b[38;5;241m.\u001b[39mexecute(driver_command, params)\n\u001b[0;32m    429\u001b[0m \u001b[38;5;28;01mif\u001b[39;00m response:\n\u001b[1;32m--> 430\u001b[0m     \u001b[38;5;28;43mself\u001b[39;49m\u001b[38;5;241;43m.\u001b[39;49m\u001b[43merror_handler\u001b[49m\u001b[38;5;241;43m.\u001b[39;49m\u001b[43mcheck_response\u001b[49m\u001b[43m(\u001b[49m\u001b[43mresponse\u001b[49m\u001b[43m)\u001b[49m\n\u001b[0;32m    431\u001b[0m     response[\u001b[38;5;124m'\u001b[39m\u001b[38;5;124mvalue\u001b[39m\u001b[38;5;124m'\u001b[39m] \u001b[38;5;241m=\u001b[39m \u001b[38;5;28mself\u001b[39m\u001b[38;5;241m.\u001b[39m_unwrap_value(\n\u001b[0;32m    432\u001b[0m         response\u001b[38;5;241m.\u001b[39mget(\u001b[38;5;124m'\u001b[39m\u001b[38;5;124mvalue\u001b[39m\u001b[38;5;124m'\u001b[39m, \u001b[38;5;28;01mNone\u001b[39;00m))\n\u001b[0;32m    433\u001b[0m     \u001b[38;5;28;01mreturn\u001b[39;00m response\n",
      "File \u001b[1;32m~\\AppData\\Local\\Programs\\Python\\Python310\\lib\\site-packages\\selenium\\webdriver\\remote\\errorhandler.py:247\u001b[0m, in \u001b[0;36mErrorHandler.check_response\u001b[1;34m(self, response)\u001b[0m\n\u001b[0;32m    245\u001b[0m         alert_text \u001b[38;5;241m=\u001b[39m value[\u001b[38;5;124m'\u001b[39m\u001b[38;5;124malert\u001b[39m\u001b[38;5;124m'\u001b[39m]\u001b[38;5;241m.\u001b[39mget(\u001b[38;5;124m'\u001b[39m\u001b[38;5;124mtext\u001b[39m\u001b[38;5;124m'\u001b[39m)\n\u001b[0;32m    246\u001b[0m     \u001b[38;5;28;01mraise\u001b[39;00m exception_class(message, screen, stacktrace, alert_text)  \u001b[38;5;66;03m# type: ignore[call-arg]  # mypy is not smart enough here\u001b[39;00m\n\u001b[1;32m--> 247\u001b[0m \u001b[38;5;28;01mraise\u001b[39;00m exception_class(message, screen, stacktrace)\n",
      "\u001b[1;31mNoSuchElementException\u001b[0m: Message: no such element: Unable to locate element: {\"method\":\"xpath\",\"selector\":\"/html/body/div[4]/div/div/div/div[1]\"}\n  (Session info: MicrosoftEdge=102.0.1245.44)\nStacktrace:\nBacktrace:\n\tMicrosoft::Applications::Events::EventProperties::unpack [0x00007FF640563A62+24578]\n\tMicrosoft::Applications::Events::time_ticks_t::time_ticks_t [0x00007FF64049E5D2+563682]\n\tOrdinal0 [0x00007FF63FFA0FB5+659381]\n\tOrdinal0 [0x00007FF63FFDC25F+901727]\n\tOrdinal0 [0x00007FF63FFDC513+902419]\n\tOrdinal0 [0x00007FF64000E467+1107047]\n\tOrdinal0 [0x00007FF63FFF77EF+1013743]\n\tOrdinal0 [0x00007FF64000BAD7+1096407]\n\tOrdinal0 [0x00007FF63FFF75C3+1013187]\n\tOrdinal0 [0x00007FF63FFCE4E0+845024]\n\tOrdinal0 [0x00007FF63FFCF8D8+850136]\n\tMicrosoft::Applications::Events::EventProperty::EventProperty [0x00007FF640255278+119992]\n\tMicrosoft::Applications::Events::EventProperty::EventProperty [0x00007FF640240D87+36807]\n\tMicrosoft::Applications::Events::EventProperty::EventProperty [0x00007FF640243F1C+49500]\n\tMicrosoft::Applications::Events::EventProperty::to_string [0x00007FF64009F606+20582]\n\tMicrosoft::Applications::Events::time_ticks_t::time_ticks_t [0x00007FF6404A5A3B+593483]\n\tMicrosoft::Applications::Events::time_ticks_t::time_ticks_t [0x00007FF6404AAF74+615300]\n\tMicrosoft::Applications::Events::time_ticks_t::time_ticks_t [0x00007FF6404AB0CD+615645]\n\tMicrosoft::Applications::Events::time_ticks_t::time_ticks_t [0x00007FF6404B5CDE+659694]\n\tBaseThreadInitThunk [0x00007FFB35A754E0+16]\n\tRtlUserThreadStart [0x00007FFB36BA485B+43]\n"
     ]
    }
   ],
   "source": [
    "from selenium.webdriver.common.keys import Keys\n",
    "browser.find_element(by=By.XPATH, value = '/html/body/div[4]/div/div/div/div[1]').send_keys(Keys.ESCAPE)  "
   ]
  },
  {
   "cell_type": "code",
   "execution_count": 29,
   "id": "5a006401-23b5-4fb2-8965-1b20eb638fc2",
   "metadata": {},
   "outputs": [],
   "source": [
    "webdriver.ActionChains(browser).send_keys(Keys.ESCAPE).perform()"
   ]
  },
  {
   "cell_type": "code",
   "execution_count": 33,
   "id": "22df413a-2fe7-4666-9d4f-9b2edef317d2",
   "metadata": {},
   "outputs": [
    {
     "ename": "NoAlertPresentException",
     "evalue": "Message: no such alert\n  (Session info: MicrosoftEdge=102.0.1245.44)\nStacktrace:\nBacktrace:\n\tMicrosoft::Applications::Events::EventProperties::unpack [0x00007FF640563A62+24578]\n\tMicrosoft::Applications::Events::time_ticks_t::time_ticks_t [0x00007FF64049E5D2+563682]\n\tOrdinal0 [0x00007FF63FFA0E6B+659051]\n\tOrdinal0 [0x00007FF63FF96B33+617267]\n\tOrdinal0 [0x00007FF63FFB781F+751647]\n\tOrdinal0 [0x00007FF63FFF782D+1013805]\n\tOrdinal0 [0x00007FF63FFB74D5+750805]\n\tOrdinal0 [0x00007FF63FFF75C3+1013187]\n\tOrdinal0 [0x00007FF63FFCE4E0+845024]\n\tOrdinal0 [0x00007FF63FFCF8D8+850136]\n\tMicrosoft::Applications::Events::EventProperty::EventProperty [0x00007FF640255278+119992]\n\tMicrosoft::Applications::Events::EventProperty::EventProperty [0x00007FF640240D87+36807]\n\tMicrosoft::Applications::Events::EventProperty::EventProperty [0x00007FF640243F1C+49500]\n\tMicrosoft::Applications::Events::EventProperty::to_string [0x00007FF64009F606+20582]\n\tMicrosoft::Applications::Events::time_ticks_t::time_ticks_t [0x00007FF6404A5A3B+593483]\n\tMicrosoft::Applications::Events::time_ticks_t::time_ticks_t [0x00007FF6404AAF74+615300]\n\tMicrosoft::Applications::Events::time_ticks_t::time_ticks_t [0x00007FF6404AB0CD+615645]\n\tMicrosoft::Applications::Events::time_ticks_t::time_ticks_t [0x00007FF6404B5CDE+659694]\n\tBaseThreadInitThunk [0x00007FFB35A754E0+16]\n\tRtlUserThreadStart [0x00007FFB36BA485B+43]\n",
     "output_type": "error",
     "traceback": [
      "\u001b[1;31m---------------------------------------------------------------------------\u001b[0m",
      "\u001b[1;31mNoAlertPresentException\u001b[0m                   Traceback (most recent call last)",
      "Input \u001b[1;32mIn [33]\u001b[0m, in \u001b[0;36m<cell line: 1>\u001b[1;34m()\u001b[0m\n\u001b[1;32m----> 1\u001b[0m \u001b[43mbrowser\u001b[49m\u001b[38;5;241;43m.\u001b[39;49m\u001b[43mswitch_to\u001b[49m\u001b[38;5;241;43m.\u001b[39;49m\u001b[43malert\u001b[49m\n",
      "File \u001b[1;32m~\\AppData\\Local\\Programs\\Python\\Python310\\lib\\site-packages\\selenium\\webdriver\\remote\\switch_to.py:56\u001b[0m, in \u001b[0;36mSwitchTo.alert\u001b[1;34m(self)\u001b[0m\n\u001b[0;32m     47\u001b[0m \u001b[38;5;124;03m\"\"\"\u001b[39;00m\n\u001b[0;32m     48\u001b[0m \u001b[38;5;124;03mSwitches focus to an alert on the page.\u001b[39;00m\n\u001b[0;32m     49\u001b[0m \n\u001b[1;32m   (...)\u001b[0m\n\u001b[0;32m     53\u001b[0m \u001b[38;5;124;03m        alert = driver.switch_to.alert\u001b[39;00m\n\u001b[0;32m     54\u001b[0m \u001b[38;5;124;03m\"\"\"\u001b[39;00m\n\u001b[0;32m     55\u001b[0m alert \u001b[38;5;241m=\u001b[39m Alert(\u001b[38;5;28mself\u001b[39m\u001b[38;5;241m.\u001b[39m_driver)\n\u001b[1;32m---> 56\u001b[0m _ \u001b[38;5;241m=\u001b[39m \u001b[43malert\u001b[49m\u001b[38;5;241;43m.\u001b[39;49m\u001b[43mtext\u001b[49m\n\u001b[0;32m     57\u001b[0m \u001b[38;5;28;01mreturn\u001b[39;00m alert\n",
      "File \u001b[1;32m~\\AppData\\Local\\Programs\\Python\\Python310\\lib\\site-packages\\selenium\\webdriver\\common\\alert.py:66\u001b[0m, in \u001b[0;36mAlert.text\u001b[1;34m(self)\u001b[0m\n\u001b[0;32m     61\u001b[0m \u001b[38;5;129m@property\u001b[39m\n\u001b[0;32m     62\u001b[0m \u001b[38;5;28;01mdef\u001b[39;00m \u001b[38;5;21mtext\u001b[39m(\u001b[38;5;28mself\u001b[39m):\n\u001b[0;32m     63\u001b[0m     \u001b[38;5;124;03m\"\"\"\u001b[39;00m\n\u001b[0;32m     64\u001b[0m \u001b[38;5;124;03m    Gets the text of the Alert.\u001b[39;00m\n\u001b[0;32m     65\u001b[0m \u001b[38;5;124;03m    \"\"\"\u001b[39;00m\n\u001b[1;32m---> 66\u001b[0m     \u001b[38;5;28;01mreturn\u001b[39;00m \u001b[38;5;28;43mself\u001b[39;49m\u001b[38;5;241;43m.\u001b[39;49m\u001b[43mdriver\u001b[49m\u001b[38;5;241;43m.\u001b[39;49m\u001b[43mexecute\u001b[49m\u001b[43m(\u001b[49m\u001b[43mCommand\u001b[49m\u001b[38;5;241;43m.\u001b[39;49m\u001b[43mW3C_GET_ALERT_TEXT\u001b[49m\u001b[43m)\u001b[49m[\u001b[38;5;124m\"\u001b[39m\u001b[38;5;124mvalue\u001b[39m\u001b[38;5;124m\"\u001b[39m]\n",
      "File \u001b[1;32m~\\AppData\\Local\\Programs\\Python\\Python310\\lib\\site-packages\\selenium\\webdriver\\remote\\webdriver.py:430\u001b[0m, in \u001b[0;36mWebDriver.execute\u001b[1;34m(self, driver_command, params)\u001b[0m\n\u001b[0;32m    428\u001b[0m response \u001b[38;5;241m=\u001b[39m \u001b[38;5;28mself\u001b[39m\u001b[38;5;241m.\u001b[39mcommand_executor\u001b[38;5;241m.\u001b[39mexecute(driver_command, params)\n\u001b[0;32m    429\u001b[0m \u001b[38;5;28;01mif\u001b[39;00m response:\n\u001b[1;32m--> 430\u001b[0m     \u001b[38;5;28;43mself\u001b[39;49m\u001b[38;5;241;43m.\u001b[39;49m\u001b[43merror_handler\u001b[49m\u001b[38;5;241;43m.\u001b[39;49m\u001b[43mcheck_response\u001b[49m\u001b[43m(\u001b[49m\u001b[43mresponse\u001b[49m\u001b[43m)\u001b[49m\n\u001b[0;32m    431\u001b[0m     response[\u001b[38;5;124m'\u001b[39m\u001b[38;5;124mvalue\u001b[39m\u001b[38;5;124m'\u001b[39m] \u001b[38;5;241m=\u001b[39m \u001b[38;5;28mself\u001b[39m\u001b[38;5;241m.\u001b[39m_unwrap_value(\n\u001b[0;32m    432\u001b[0m         response\u001b[38;5;241m.\u001b[39mget(\u001b[38;5;124m'\u001b[39m\u001b[38;5;124mvalue\u001b[39m\u001b[38;5;124m'\u001b[39m, \u001b[38;5;28;01mNone\u001b[39;00m))\n\u001b[0;32m    433\u001b[0m     \u001b[38;5;28;01mreturn\u001b[39;00m response\n",
      "File \u001b[1;32m~\\AppData\\Local\\Programs\\Python\\Python310\\lib\\site-packages\\selenium\\webdriver\\remote\\errorhandler.py:247\u001b[0m, in \u001b[0;36mErrorHandler.check_response\u001b[1;34m(self, response)\u001b[0m\n\u001b[0;32m    245\u001b[0m         alert_text \u001b[38;5;241m=\u001b[39m value[\u001b[38;5;124m'\u001b[39m\u001b[38;5;124malert\u001b[39m\u001b[38;5;124m'\u001b[39m]\u001b[38;5;241m.\u001b[39mget(\u001b[38;5;124m'\u001b[39m\u001b[38;5;124mtext\u001b[39m\u001b[38;5;124m'\u001b[39m)\n\u001b[0;32m    246\u001b[0m     \u001b[38;5;28;01mraise\u001b[39;00m exception_class(message, screen, stacktrace, alert_text)  \u001b[38;5;66;03m# type: ignore[call-arg]  # mypy is not smart enough here\u001b[39;00m\n\u001b[1;32m--> 247\u001b[0m \u001b[38;5;28;01mraise\u001b[39;00m exception_class(message, screen, stacktrace)\n",
      "\u001b[1;31mNoAlertPresentException\u001b[0m: Message: no such alert\n  (Session info: MicrosoftEdge=102.0.1245.44)\nStacktrace:\nBacktrace:\n\tMicrosoft::Applications::Events::EventProperties::unpack [0x00007FF640563A62+24578]\n\tMicrosoft::Applications::Events::time_ticks_t::time_ticks_t [0x00007FF64049E5D2+563682]\n\tOrdinal0 [0x00007FF63FFA0E6B+659051]\n\tOrdinal0 [0x00007FF63FF96B33+617267]\n\tOrdinal0 [0x00007FF63FFB781F+751647]\n\tOrdinal0 [0x00007FF63FFF782D+1013805]\n\tOrdinal0 [0x00007FF63FFB74D5+750805]\n\tOrdinal0 [0x00007FF63FFF75C3+1013187]\n\tOrdinal0 [0x00007FF63FFCE4E0+845024]\n\tOrdinal0 [0x00007FF63FFCF8D8+850136]\n\tMicrosoft::Applications::Events::EventProperty::EventProperty [0x00007FF640255278+119992]\n\tMicrosoft::Applications::Events::EventProperty::EventProperty [0x00007FF640240D87+36807]\n\tMicrosoft::Applications::Events::EventProperty::EventProperty [0x00007FF640243F1C+49500]\n\tMicrosoft::Applications::Events::EventProperty::to_string [0x00007FF64009F606+20582]\n\tMicrosoft::Applications::Events::time_ticks_t::time_ticks_t [0x00007FF6404A5A3B+593483]\n\tMicrosoft::Applications::Events::time_ticks_t::time_ticks_t [0x00007FF6404AAF74+615300]\n\tMicrosoft::Applications::Events::time_ticks_t::time_ticks_t [0x00007FF6404AB0CD+615645]\n\tMicrosoft::Applications::Events::time_ticks_t::time_ticks_t [0x00007FF6404B5CDE+659694]\n\tBaseThreadInitThunk [0x00007FFB35A754E0+16]\n\tRtlUserThreadStart [0x00007FFB36BA485B+43]\n"
     ]
    }
   ],
   "source": [
    "browser.switch_to.alert"
   ]
  },
  {
   "cell_type": "markdown",
   "id": "f6e2bc23-219a-409b-9a06-fea44dd8f991",
   "metadata": {},
   "source": [
    "## "
   ]
  }
 ],
 "metadata": {
  "kernelspec": {
   "display_name": "Python 3 (ipykernel)",
   "language": "python",
   "name": "python3"
  },
  "language_info": {
   "codemirror_mode": {
    "name": "ipython",
    "version": 3
   },
   "file_extension": ".py",
   "mimetype": "text/x-python",
   "name": "python",
   "nbconvert_exporter": "python",
   "pygments_lexer": "ipython3",
   "version": "3.10.4"
  }
 },
 "nbformat": 4,
 "nbformat_minor": 5
}
